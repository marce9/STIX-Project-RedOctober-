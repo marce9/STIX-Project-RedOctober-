{
 "cells": [
  {
   "cell_type": "code",
   "execution_count": 1,
   "metadata": {
    "collapsed": false
   },
   "outputs": [],
   "source": [
    "import stix2 \n",
    "import itertools\n"
   ]
  },
  {
   "cell_type": "code",
   "execution_count": 2,
   "metadata": {
    "collapsed": true
   },
   "outputs": [],
   "source": [
    "firstActivity = \"2007-04-27T09:00:00.000Z\"\n",
    "reportDate = \"2013-01-27T09:00:00.000Z\""
   ]
  },
  {
   "cell_type": "markdown",
   "metadata": {},
   "source": [
    "# Observed Data - 2 each"
   ]
  },
  {
   "cell_type": "markdown",
   "metadata": {},
   "source": [
    "## File"
   ]
  },
  {
   "cell_type": "code",
   "execution_count": 3,
   "metadata": {
    "collapsed": false
   },
   "outputs": [],
   "source": [
    "#List of sample attachment filenames that were sent to some of the victims.\n",
    "\n",
    "obs_emailFiles = stix2.ObservedData(first_observed=firstActivity, \n",
    "                                    last_observed=reportDate, \n",
    "                                    number_observed=1,\n",
    "                                    objects={\"0\":stix2.File(name=\"Katyn_-_opinia_Rosjan.xls\"),\n",
    "                                             \"1\":stix2.File(name=\"FIEO contacts update.xls\")})\n"
   ]
  },
  {
   "cell_type": "markdown",
   "metadata": {
    "collapsed": true
   },
   "source": [
    "## URL"
   ]
  },
  {
   "cell_type": "code",
   "execution_count": 4,
   "metadata": {
    "collapsed": false
   },
   "outputs": [],
   "source": [
    "# Checks if the internet connection is available by connecting to three Microsoft hosts.\n",
    "\n",
    "obs_checkConnectionUrl = stix2.ObservedData(first_observed=firstActivity, \n",
    "                                            last_observed=reportDate, \n",
    "                                            number_observed=1,\n",
    "                                            objects={\"0\":stix2.URL(value=\"update.microsoft.com\"),\n",
    "                                                     \"1\":stix2.URL(value=\"www.microsoft.com\"),\n",
    "                                                     \"2\":stix2.URL(value=\"support.microsoft.com\")})"
   ]
  },
  {
   "cell_type": "markdown",
   "metadata": {},
   "source": [
    "## Process"
   ]
  },
  {
   "cell_type": "code",
   "execution_count": 5,
   "metadata": {
    "collapsed": true
   },
   "outputs": [],
   "source": [
    "# loader module\n",
    "obs_loaderProc = stix2.ObservedData(first_observed=firstActivity, \n",
    "                                    last_observed=reportDate, \n",
    "                                    number_observed=1,\n",
    "                                    objects={\"0\":stix2.Process(name=\"svchost.exe\")})\n"
   ]
  },
  {
   "cell_type": "markdown",
   "metadata": {},
   "source": [
    "## HTTP Request"
   ]
  },
  {
   "cell_type": "code",
   "execution_count": 6,
   "metadata": {
    "collapsed": false
   },
   "outputs": [],
   "source": [
    "# loader module\n",
    "obs_scriptDownload = stix2.ObservedData(first_observed=firstActivity, \n",
    "                              last_observed=reportDate, \n",
    "                              number_observed=11,\n",
    "                              objects={\"0\":{\"type\": \"ipv4-addr\",\"value\": \"178.63.208.49\"},\n",
    "                                       \"2\": {\"type\": \"network-traffic\",\n",
    "                                             \"dst_ref\": \"0\",\n",
    "                                             \"protocols\": [\"http\", \"ipv4\",\"tcp\"],\n",
    "                                             \"extensions\": {\"http-request-ext\": {\"request_method\": \"post\",\n",
    "                                                                                 \"request_value\": \"/cgi-bin/nt/th\",\n",
    "                                                                                 \"request_version\": \"http/1.1\",\n",
    "                                                                                 \"request_header\": {\"Host\":\"nt-windows-online.com\"}}}}})\n",
    "  "
   ]
  },
  {
   "cell_type": "markdown",
   "metadata": {
    "collapsed": true
   },
   "source": [
    "## Software"
   ]
  },
  {
   "cell_type": "code",
   "execution_count": 7,
   "metadata": {
    "collapsed": true
   },
   "outputs": [],
   "source": [
    "obs_software = stix2.ObservedData(first_observed=firstActivity, \n",
    "                                    last_observed=reportDate, \n",
    "                                    number_observed=1,\n",
    "                                    objects={\"0\":stix2.Software(name=\"Word\", vendor=\"Microsoft\"),\n",
    "                                             \"1\":stix2.Software(name=\"Exal\", vendor=\"Microsoft\")})\n"
   ]
  },
  {
   "cell_type": "markdown",
   "metadata": {},
   "source": [
    "## Domain Name"
   ]
  },
  {
   "cell_type": "code",
   "execution_count": 8,
   "metadata": {
    "collapsed": true
   },
   "outputs": [],
   "source": [
    "obs_domain = stix2.ObservedData(first_observed=firstActivity, \n",
    "                                    last_observed=reportDate, \n",
    "                                    number_observed=1,\n",
    "                                    objects={\"0\":stix2.DomainName(value=\"nt-windows-online.com\"),\n",
    "                                             \"1\":stix2.DomainName(value=\"microsoft.com\")})\n"
   ]
  },
  {
   "cell_type": "markdown",
   "metadata": {},
   "source": [
    "## IPv4 Address"
   ]
  },
  {
   "cell_type": "code",
   "execution_count": 9,
   "metadata": {
    "collapsed": true
   },
   "outputs": [],
   "source": [
    "obs_ipv4 = stix2.ObservedData(first_observed=firstActivity, \n",
    "                                    last_observed=reportDate, \n",
    "                                    number_observed=1,\n",
    "                                    objects={\"0\":stix2.IPv4Address(value=\"31.41.45.139\"),\n",
    "                                             \"1\":stix2.IPv4Address(value=\"91.226.31.40\")})"
   ]
  },
  {
   "cell_type": "code",
   "execution_count": 10,
   "metadata": {
    "collapsed": true
   },
   "outputs": [],
   "source": [
    "observedList = [obs_checkConnectionUrl, obs_emailFiles, obs_loaderProc, obs_scriptDownload, obs_domain, obs_ipv4, obs_software]"
   ]
  },
  {
   "cell_type": "code",
   "execution_count": null,
   "metadata": {
    "collapsed": true
   },
   "outputs": [],
   "source": []
  },
  {
   "cell_type": "code",
   "execution_count": null,
   "metadata": {
    "collapsed": true
   },
   "outputs": [],
   "source": []
  },
  {
   "cell_type": "markdown",
   "metadata": {},
   "source": [
    "# Identity (victim) - up to 5"
   ]
  },
  {
   "cell_type": "code",
   "execution_count": 11,
   "metadata": {
    "collapsed": false
   },
   "outputs": [],
   "source": [
    "target_algeria = stix2.Identity(name=\"Algeria Embassy\", identity_class=\"organization\")\n",
    "target_israel = stix2.Identity(name=\"Israel Embassy\", identity_class=\"organization\")\n",
    "target_qatar = stix2.Identity(name=\"Qatar Embassy\", identity_class=\"organization\")\n",
    "target_iraq = stix2.Identity(name=\"Iraq Governmental Organization\", identity_class=\"organization\")\n",
    "target_spain = stix2.Identity(name=\"Spain Governmental Organization\", identity_class=\"organization\")\n",
    "\n",
    "targetList = [target_algeria, target_israel, target_qatar, target_iraq, target_spain]"
   ]
  },
  {
   "cell_type": "markdown",
   "metadata": {},
   "source": [
    "# Tool - 5"
   ]
  },
  {
   "cell_type": "code",
   "execution_count": 12,
   "metadata": {
    "collapsed": true
   },
   "outputs": [],
   "source": [
    "tool_socat = stix2.Tool(name=\"socat\", labels=[\"network-capture\"])\n",
    "tool_acidCrypt = stix2.Tool(name=\"Acid Cryptofiler\", labels=[\"credential-exploitation\"])\n",
    "\n",
    "toolsList = [tool_socat, tool_acidCrypt]"
   ]
  },
  {
   "cell_type": "markdown",
   "metadata": {},
   "source": [
    "# Vulnerability - 5"
   ]
  },
  {
   "cell_type": "code",
   "execution_count": 13,
   "metadata": {
    "collapsed": false
   },
   "outputs": [],
   "source": [
    "vul_office1 = stix2.Vulnerability(name=\"CVE-2009-3129\", \n",
    "                                  description=\"Vulnerability in MS Excel\",\n",
    "                                  external_references=[stix2.ExternalReference(source_name=\"cve\",\n",
    "                                                                               external_id=\"CVE-2009-3129\")])\n",
    "\n",
    "vul_office2 = stix2.Vulnerability(name=\"CVE-2010-3333\", \n",
    "                                  description=\"Vulnerability in MS Word\",\n",
    "                                  external_references=[stix2.ExternalReference(source_name=\"cve\",\n",
    "                                                                               external_id=\"CVE-2010-3333\")])\n",
    "vul_office3 = stix2.Vulnerability(name=\"CVE-2012-0158\", \n",
    "                                  description=\"Vulnerability in MS Word\",\n",
    "                                  external_references=[stix2.ExternalReference(source_name=\"cve\",\n",
    "                                                                               external_id=\"CVE-2012-0158\")])\n",
    "vul_java = stix2.Vulnerability(name=\"Rhino\",\n",
    "                               description=\"Vulnerability in Java\",\n",
    "                               external_references=[stix2.ExternalReference(source_name=\"cve\",\n",
    "                                                                            external_id=\"CVE-2011-3544\")])\n",
    "\n",
    "vulList = [vul_office1, vul_office2, vul_office3, vul_java]"
   ]
  },
  {
   "cell_type": "markdown",
   "metadata": {},
   "source": [
    "# Malware - 5"
   ]
  },
  {
   "cell_type": "code",
   "execution_count": 14,
   "metadata": {
    "collapsed": false
   },
   "outputs": [],
   "source": [
    "malware_dropper = stix2.Malware(name=\"Trojan.Win32.Generic\",\n",
    "                                 labels=[\"dropper\",\"trojan\"])\n",
    "\n",
    "malware_backdoor = stix2.Malware(name=\"Unknwon (LHAFD.GCP)\",\n",
    "                                 labels=[\"backdoor\",\"trojan\"])\n",
    "\n",
    "malwareList = [malware_dropper, malware_backdoor]"
   ]
  },
  {
   "cell_type": "markdown",
   "metadata": {},
   "source": [
    "# Threat Actor - 1"
   ]
  },
  {
   "cell_type": "code",
   "execution_count": 15,
   "metadata": {
    "collapsed": false
   },
   "outputs": [],
   "source": [
    "attackers = stix2.ThreatActor(name = \"Unknown\",\n",
    "                              labels = ['spy'],\n",
    "                              description=\"Strongly believe that the attackers have Russian-speaking origins. Current attackers and executables developed by them have been unknown until recently, they have never related toany other targeted cyberattacks.\",\n",
    "                              roles=[\"infrastructure-operator\"],\n",
    "                              goals=[\"gather intelligence\"],\n",
    "                              sophistication=\"advanced\") \n",
    "\n"
   ]
  },
  {
   "cell_type": "markdown",
   "metadata": {},
   "source": [
    "# Indicator - 2 each"
   ]
  },
  {
   "cell_type": "markdown",
   "metadata": {
    "collapsed": true
   },
   "source": [
    "## Trojan Files"
   ]
  },
  {
   "cell_type": "code",
   "execution_count": 16,
   "metadata": {
    "collapsed": false
   },
   "outputs": [],
   "source": [
    "indicator_files = stix2.Indicator(labels=[\"malicious-activity\", \"compromised\"],\n",
    "                                  name=\"Trojan Files\",\n",
    "                                  description=\"Those files is extract and run by the file-dropper.\",\n",
    "                                  valid_from=firstActivity,\n",
    "                                  pattern=\"[file:name = 'MSC.BAT' AND file:name = 'NTSVCHOST.EXE']\") # NTLHAFD.GCP file name varies\n"
   ]
  },
  {
   "cell_type": "markdown",
   "metadata": {},
   "source": [
    "## C2 Domain Name"
   ]
  },
  {
   "cell_type": "code",
   "execution_count": 17,
   "metadata": {
    "collapsed": false
   },
   "outputs": [],
   "source": [
    "indicator_c2Domain = stix2.Indicator(labels=[\"malicious-activity\"],\n",
    "                                  name=\"C2 Domains\",\n",
    "                                  description=\"Domains used for command and control\",\n",
    "                                  valid_from=firstActivity,\n",
    "                                  pattern=\"([network-traffic:dst_ref.type = 'domain-name' AND network-traffic:dst_ref.value = 'shellupdate.com'] OR [network-traffic:dst_ref.type = 'domain-name' AND network-traffic:dst_ref.value = 'msgenuine.net'])\") \n",
    "# There are many more\n"
   ]
  },
  {
   "cell_type": "markdown",
   "metadata": {},
   "source": [
    "## Connection to C2 (IP)"
   ]
  },
  {
   "cell_type": "code",
   "execution_count": 18,
   "metadata": {
    "collapsed": true
   },
   "outputs": [],
   "source": [
    "indicator_c2IP = stix2.Indicator(labels=[\"malicious-activity\"],\n",
    "                                  name=\"Stream Redirection to 'mini-motherships'\",\n",
    "                                  description=\"The C2 servers proved to be a proxy, which was forwarding the request to another server\",\n",
    "                                  valid_from=firstActivity,\n",
    "                                  pattern=\"[network-traffic:dst_ref.type = 'ipv4-addr' AND network-traffic:dst_ref.value = '37.235.54.48'] OR [network-traffic:dst_ref.type = 'ipv4-addr' AND network-traffic:dst_ref.value = '31.41.45.119']\")"
   ]
  },
  {
   "cell_type": "markdown",
   "metadata": {},
   "source": [
    "## Stream Redirection to \"mini-motherships\""
   ]
  },
  {
   "cell_type": "code",
   "execution_count": 19,
   "metadata": {
    "collapsed": true
   },
   "outputs": [],
   "source": [
    "indicator_redirect = stix2.Indicator(labels=[\"malicious-activity\"],\n",
    "                                  name=\"C2 servers IP\",\n",
    "                                  description=\"Different servers which exhibited confirmed malicious behavior.\",\n",
    "                                  valid_from=firstActivity,\n",
    "                                  pattern=\"([file:name = '/root/scp.pl' AND process:name = 'scp.pl' AND software:name = 'socat']) FOLLOWEDBY [network-traffic:dst_ref.type = 'ipv4-addr' AND network-traffic:dst_ref.value = '31.41.45.139']\")\n",
    "# There are more IPs and more scripts"
   ]
  },
  {
   "cell_type": "markdown",
   "metadata": {},
   "source": [
    "## HTTP"
   ]
  },
  {
   "cell_type": "code",
   "execution_count": null,
   "metadata": {
    "collapsed": true
   },
   "outputs": [],
   "source": []
  },
  {
   "cell_type": "code",
   "execution_count": 20,
   "metadata": {
    "collapsed": true
   },
   "outputs": [],
   "source": [
    "indicatorList = [indicator_files, indicator_c2Domain, indicator_c2IP, indicator_redirect]"
   ]
  },
  {
   "cell_type": "markdown",
   "metadata": {},
   "source": [
    "# Attack Pattern - all you can find"
   ]
  },
  {
   "cell_type": "code",
   "execution_count": 21,
   "metadata": {
    "collapsed": false
   },
   "outputs": [],
   "source": [
    "ap_phishing = stix2.AttackPattern(name=\"Spear Phishing\",\n",
    "                                  description=\"The malicious code was delivered via e-mail as attachments (Microsoft Excel, Word and, probably PDF documents) which were rigged with exploit code for known security vulnerabilities in the mentioned applications. E-mail subject lines as well as the text in e-mail bodies varied depending on the target (recipient). The attached file contained the exploit code which activated a Trojan dropper in the system.\",\n",
    "                                  kill_chain_phases=stix2.KillChainPhase(kill_chain_name=\"mandiant-attack-lifecycle-model\",\n",
    "                                                                         phase_name=\"initial-compromise\"), \n",
    "                                  external_references=stix2.ExternalReference(source_name=\"capec\",\n",
    "                                                                               external_id=\"CAPEC-163\",\n",
    "                                                                               description=\"Spear Phishing\"))\n",
    "\n",
    "ap_targetMalware = stix2.AttackPattern(name=\"Targeted Malware\",\n",
    "                                  description=\"Right after the victim opened the malicious document or visit malicious URL on a vulnerable system, the embedded malicious code initiated the setup of the main component which in turn handled further communication with the C&C servers. The main purpose of the spying modules is to steal information. This includes files from different cryptographic systems, such as \\\"Acid Cryptofiler\\\", which is known to be used in organizations of European Union/European Parliament/European Commission since the summer of 2011. All gathered information is packed, encrypted and only then transferred to the C&C server.\",\n",
    "                                  kill_chain_phases=stix2.KillChainPhase(kill_chain_name=\"mandiant-attack-lifecycle-model\",\n",
    "                                                                         phase_name=\"installation\"), \n",
    "                                  external_references=stix2.ExternalReference(source_name=\"capec\",\n",
    "                                                                               external_id=\"CAPEC-542\",\n",
    "                                                                               description=\"Targeted Malware\"))\n",
    "\n",
    "ap_passwords = stix2.AttackPattern(name=\"Dictionary-based Password Attack\",\n",
    "                                  description=\"Stolen credentials were compiled in a list and used when the attackers needed to guess secret phrase in other locations.\",\n",
    "                                  kill_chain_phases=stix2.KillChainPhase(kill_chain_name=\"mandiant-attack-lifecycle-model\",\n",
    "                                                                          phase_name=\"installation\"), \n",
    "                                  external_references=stix2.ExternalReference(source_name=\"capec\",\n",
    "                                                                               external_id=\"CAPEC-542\",\n",
    "                                                                               description=\"Dictionary-based Password Attack\"))\n",
    "\n",
    "apList = [ap_phishing, ap_targetMalware, ap_passwords]"
   ]
  },
  {
   "cell_type": "markdown",
   "metadata": {},
   "source": [
    "# Course of Action - all you can find"
   ]
  },
  {
   "cell_type": "markdown",
   "metadata": {
    "collapsed": true
   },
   "source": [
    "# Relationship"
   ]
  },
  {
   "cell_type": "markdown",
   "metadata": {
    "collapsed": true
   },
   "source": [
    "## Indicator"
   ]
  },
  {
   "cell_type": "code",
   "execution_count": 22,
   "metadata": {
    "collapsed": true
   },
   "outputs": [],
   "source": [
    "indicatorRelationshipList = []"
   ]
  },
  {
   "cell_type": "markdown",
   "metadata": {},
   "source": [
    "### Indicator indicates Attack Pattern"
   ]
  },
  {
   "cell_type": "code",
   "execution_count": 23,
   "metadata": {
    "collapsed": true
   },
   "outputs": [],
   "source": [
    "\n",
    "indicatorRelationshipList.append(stix2.Relationship(relationship_type=\"indicates\",\n",
    "                                                    source_ref=indicator_files,\n",
    "                                                    target_ref=ap_phishing))\n",
    "\n",
    "indicatorRelationshipList.append(stix2.Relationship(relationship_type=\"indicates\",\n",
    "                                                    source_ref=indicator_c2Domain,\n",
    "                                                    target_ref=ap_phishing))\n",
    "\n",
    "for indicator in indicatorList:\n",
    "    indicatorRelationshipList.append(stix2.Relationship(relationship_type=\"indicates\",\n",
    "                                                        source_ref=indicator,\n",
    "                                                        target_ref=ap_targetMalware))\n"
   ]
  },
  {
   "cell_type": "markdown",
   "metadata": {},
   "source": [
    "### Indicator indicates Malware"
   ]
  },
  {
   "cell_type": "code",
   "execution_count": 24,
   "metadata": {
    "collapsed": true
   },
   "outputs": [],
   "source": [
    "indicatorRelationshipList.append(stix2.Relationship(relationship_type=\"indicates\",\n",
    "                                                    source_ref=indicator_files,\n",
    "                                                    target_ref=malware_backdoor))\n",
    "\n",
    "indicatorRelationshipList.append(stix2.Relationship(relationship_type=\"indicates\",\n",
    "                                                    source_ref=indicator_c2Domain,\n",
    "                                                    target_ref=malware_backdoor))\n",
    "\n",
    "indicatorRelationshipList.append(stix2.Relationship(relationship_type=\"indicates\",\n",
    "                                                    source_ref=indicator_c2IP,\n",
    "                                                    target_ref=malware_backdoor))\n"
   ]
  },
  {
   "cell_type": "markdown",
   "metadata": {},
   "source": [
    "### Indicator indicates Threat Actor"
   ]
  },
  {
   "cell_type": "code",
   "execution_count": 25,
   "metadata": {
    "collapsed": true
   },
   "outputs": [],
   "source": [
    "for indicator in indicatorList:\n",
    "    indicatorRelationshipList.append(stix2.Relationship(relationship_type=\"indicates\",\n",
    "                                                        source_ref=indicator,\n",
    "                                                        target_ref=attackers))\n"
   ]
  },
  {
   "cell_type": "markdown",
   "metadata": {},
   "source": [
    "### Indicator indicates Tool"
   ]
  },
  {
   "cell_type": "code",
   "execution_count": 26,
   "metadata": {
    "collapsed": true
   },
   "outputs": [],
   "source": [
    "indicatorRelationshipList.append(stix2.Relationship(relationship_type=\"indicates\",\n",
    "                                                        source_ref=indicator_redirect,\n",
    "                                                        target_ref=tool_socat))\n",
    "\n"
   ]
  },
  {
   "cell_type": "markdown",
   "metadata": {
    "collapsed": true
   },
   "source": [
    "## Threat Actor Relationship"
   ]
  },
  {
   "cell_type": "code",
   "execution_count": 27,
   "metadata": {
    "collapsed": true
   },
   "outputs": [],
   "source": [
    "taRelationshipList = []"
   ]
  },
  {
   "cell_type": "markdown",
   "metadata": {},
   "source": [
    "### Threat Actor targets Identity / Vulnerability"
   ]
  },
  {
   "cell_type": "code",
   "execution_count": 28,
   "metadata": {
    "collapsed": false
   },
   "outputs": [],
   "source": [
    "vulAndTargetList = targetList + vulList\n",
    "\n",
    "for identity in vulAndTargetList:\n",
    "    taRelationshipList.append(stix2.Relationship(relationship_type=\"targets\",\n",
    "                                                  source_ref=attackers,\n",
    "                                                  target_ref=identity))\n",
    "    \n"
   ]
  },
  {
   "cell_type": "markdown",
   "metadata": {},
   "source": [
    "### Threat Actor uses Attack Pattern\\Tool\\Malware"
   ]
  },
  {
   "cell_type": "code",
   "execution_count": 29,
   "metadata": {
    "collapsed": true
   },
   "outputs": [],
   "source": [
    "apToolAndMalwareList = apList + toolsList + malwareList\n",
    "\n",
    "for i in apToolAndMalwareList:\n",
    "    taRelationshipList.append(stix2.Relationship(relationship_type=\"uses\",\n",
    "                                                  source_ref=attackers,\n",
    "                                                  target_ref=i))\n"
   ]
  },
  {
   "cell_type": "markdown",
   "metadata": {
    "collapsed": true
   },
   "source": [
    "## Malware Relationship"
   ]
  },
  {
   "cell_type": "code",
   "execution_count": 30,
   "metadata": {
    "collapsed": true
   },
   "outputs": [],
   "source": [
    "malwareRelationshipList = []"
   ]
  },
  {
   "cell_type": "markdown",
   "metadata": {
    "collapsed": true
   },
   "source": [
    "### Malware target Vulnerability"
   ]
  },
  {
   "cell_type": "code",
   "execution_count": 31,
   "metadata": {
    "collapsed": true
   },
   "outputs": [],
   "source": [
    "for vul in vulList:\n",
    "    malwareRelationshipList.append(stix2.Relationship(relationship_type=\"targets\",\n",
    "                                                      source_ref=malware_dropper,\n",
    "                                                      target_ref=vul))"
   ]
  },
  {
   "cell_type": "markdown",
   "metadata": {},
   "source": [
    "### Malware target Identity"
   ]
  },
  {
   "cell_type": "code",
   "execution_count": 32,
   "metadata": {
    "collapsed": true
   },
   "outputs": [],
   "source": [
    "for target in targetList:\n",
    "    malwareRelationshipList.append(stix2.Relationship(relationship_type=\"targets\",\n",
    "                                                      source_ref=malware_dropper,\n",
    "                                                      target_ref=target))\n",
    "\n",
    "    malwareRelationshipList.append(stix2.Relationship(relationship_type=\"targets\",\n",
    "                                                      source_ref=malware_backdoor,\n",
    "                                                      target_ref=target))"
   ]
  },
  {
   "cell_type": "markdown",
   "metadata": {},
   "source": [
    "### Malware uses Tool"
   ]
  },
  {
   "cell_type": "code",
   "execution_count": 33,
   "metadata": {
    "collapsed": true
   },
   "outputs": [],
   "source": [
    "malwareRelationshipList.append(stix2.Relationship(relationship_type=\"targets\",\n",
    "                                                      source_ref=malware_backdoor,\n",
    "                                                      target_ref=tool_acidCrypt))"
   ]
  },
  {
   "cell_type": "markdown",
   "metadata": {},
   "source": [
    "## Attack Pattern"
   ]
  },
  {
   "cell_type": "code",
   "execution_count": 34,
   "metadata": {
    "collapsed": true
   },
   "outputs": [],
   "source": [
    "apRelationshipList = []"
   ]
  },
  {
   "cell_type": "markdown",
   "metadata": {},
   "source": [
    "### Attack Pattern targets Identity\\Vulnerability"
   ]
  },
  {
   "cell_type": "code",
   "execution_count": 35,
   "metadata": {
    "collapsed": true
   },
   "outputs": [],
   "source": [
    "for i in vulAndTargetList:\n",
    "    apRelationshipList.append(stix2.Relationship(relationship_type=\"targets\",\n",
    "                                                  source_ref=ap_phishing,\n",
    "                                                  target_ref=i))\n",
    "    \n",
    "    apRelationshipList.append(stix2.Relationship(relationship_type=\"targets\",\n",
    "                                                  source_ref=ap_targetMalware,\n",
    "                                                  target_ref=i))\n",
    "\n",
    "for target in targetList:\n",
    "    apRelationshipList.append(stix2.Relationship(relationship_type=\"targets\",\n",
    "                                                  source_ref=ap_passwords,\n",
    "                                                  target_ref=target))    \n",
    "    \n"
   ]
  },
  {
   "cell_type": "markdown",
   "metadata": {},
   "source": [
    "### Attack Pattern uses Tool\\Malware"
   ]
  },
  {
   "cell_type": "code",
   "execution_count": 36,
   "metadata": {
    "collapsed": false
   },
   "outputs": [],
   "source": [
    "apRelationshipList.append(stix2.Relationship(relationship_type=\"uses\",\n",
    "                                                  source_ref=ap_phishing,\n",
    "                                                  target_ref=malware_dropper))  \n",
    "\n",
    "apRelationshipList.append(stix2.Relationship(relationship_type=\"uses\",\n",
    "                                                  source_ref=ap_targetMalware,\n",
    "                                                  target_ref=malware_dropper))\n",
    "\n",
    "apRelationshipList.append(stix2.Relationship(relationship_type=\"uses\",\n",
    "                                                  source_ref=ap_targetMalware,\n",
    "                                                  target_ref=malware_backdoor))"
   ]
  },
  {
   "cell_type": "code",
   "execution_count": 37,
   "metadata": {
    "collapsed": true
   },
   "outputs": [],
   "source": [
    "relationshipList = apRelationshipList + malwareRelationshipList + taRelationshipList + indicatorRelationshipList"
   ]
  },
  {
   "cell_type": "markdown",
   "metadata": {},
   "source": [
    "# Report - 1"
   ]
  },
  {
   "cell_type": "code",
   "execution_count": 38,
   "metadata": {
    "collapsed": false
   },
   "outputs": [],
   "source": [
    "everythingArray = relationshipList + apList + indicatorList + [attackers] + malwareList + vulList + toolsList + targetList + observedList\n",
    "\n",
    "report = stix2.Report(labels=[\"threat-actor\"],\n",
    "                      name=\"\\\"Red October\\\" Diplomatic Cyber Attacks Investigation\",\n",
    "                      description=\"This report is based on detailed technical analysis of a series of targeted attacks against diplomatic, governmental and scientific research organizations in different countries, mostly related to the region of Eastern Europe, former USSR members and countries in Central Asia.\",\n",
    "                      published=reportDate,\n",
    "                      object_refs=everythingArray)\n"
   ]
  },
  {
   "cell_type": "markdown",
   "metadata": {},
   "source": [
    "# Bundle"
   ]
  },
  {
   "cell_type": "code",
   "execution_count": 39,
   "metadata": {
    "collapsed": false
   },
   "outputs": [
    {
     "name": "stdout",
     "output_type": "stream",
     "text": [
      "{\n",
      "    \"type\": \"bundle\",\n",
      "    \"id\": \"bundle--039c459e-aadc-4106-ae3d-2ba57ee9ce4f\",\n",
      "    \"spec_version\": \"2.0\",\n",
      "    \"objects\": [\n",
      "        {\n",
      "            \"type\": \"report\",\n",
      "            \"id\": \"report--55032acd-0599-42fd-b223-568d42bb2c8a\",\n",
      "            \"created\": \"2018-01-13T14:58:38.264Z\",\n",
      "            \"modified\": \"2018-01-13T14:58:38.264Z\",\n",
      "            \"name\": \"\\\"Red October\\\" Diplomatic Cyber Attacks Investigation\",\n",
      "            \"description\": \"This report is based on detailed technical analysis of a series of targeted attacks against diplomatic, governmental and scientific research organizations in different countries, mostly related to the region of Eastern Europe, former USSR members and countries in Central Asia.\",\n",
      "            \"published\": \"2013-01-27T09:00:00Z\",\n",
      "            \"object_refs\": [\n",
      "                \"relationship--3fbc945e-6d96-4c47-a6ce-9feca1ce9a68\",\n",
      "                \"relationship--8de8bb18-66ab-4517-b7ac-7611b133ed34\",\n",
      "                \"relationship--b868f872-7092-479e-955d-eae9bdaccd5b\",\n",
      "                \"relationship--96c9809a-046f-4299-bfed-34afc8b7ac48\",\n",
      "                \"relationship--830a6c20-9cab-4ba0-96b0-c06cb170bdbb\",\n",
      "                \"relationship--20906da4-b119-4f24-9349-4435a20e2ee6\",\n",
      "                \"relationship--7913f5c1-4ca7-40c7-baa4-1d8a95fd6093\",\n",
      "                \"relationship--d39647dd-fdaf-4b91-8e02-05f9d842a239\",\n",
      "                \"relationship--316f64d8-a1c2-42ee-95ea-f1fbb1c4cd8d\",\n",
      "                \"relationship--f5319aae-a214-4711-b210-225269f79add\",\n",
      "                \"relationship--33c3698b-a84f-4174-9d81-104da8a77fae\",\n",
      "                \"relationship--498b0301-19cd-4bd0-92bd-cc94b81d3ba6\",\n",
      "                \"relationship--113301f1-d201-4ce6-b79b-303638c5f599\",\n",
      "                \"relationship--58941173-034c-4583-b91a-5d6a5d9a3612\",\n",
      "                \"relationship--f706effc-df39-4b95-b4e8-fa0156883098\",\n",
      "                \"relationship--a7139f62-b0db-4d42-950f-6621f1b84f61\",\n",
      "                \"relationship--154e663e-e6d1-4348-9c31-70bf654e2fe7\",\n",
      "                \"relationship--63c1faf1-8e7d-4d36-866d-8ec8872de492\",\n",
      "                \"relationship--7a079528-c88b-4cce-9ddc-20c6d65bdaf8\",\n",
      "                \"relationship--ca03242c-8f46-4297-980a-6e9248761bfe\",\n",
      "                \"relationship--853e0699-eda2-47f6-bd63-50dc57bdce5d\",\n",
      "                \"relationship--4872f98b-d1eb-4733-97cb-56a671933bd1\",\n",
      "                \"relationship--4d8d6f10-9867-40a8-a7cb-232e4314f8cb\",\n",
      "                \"relationship--1fd1abda-3e4e-4b70-aa73-a0044fc041a7\",\n",
      "                \"relationship--0781c142-82e4-4bd1-9ca6-cc56f94d2b23\",\n",
      "                \"relationship--7c64b641-7fb6-425f-89c4-c3693a00e6a1\",\n",
      "                \"relationship--48ca202a-bbb7-45c0-8ebd-b67cb9270410\",\n",
      "                \"relationship--de86c377-25da-490f-beba-e77feeb0bab6\",\n",
      "                \"relationship--d4c82fb8-209b-439a-b9c0-00bd85db52f9\",\n",
      "                \"relationship--b24d3fc4-ad5b-448b-8003-f0ebcf487428\",\n",
      "                \"relationship--d30b5ae3-53c5-4661-9d7b-dddfaeff83c4\",\n",
      "                \"relationship--8489db16-7cee-4636-8067-d7fa519ce63b\",\n",
      "                \"relationship--c8e4c060-af22-4d5f-b9c4-a505566d0183\",\n",
      "                \"relationship--28fd6359-8202-4d1f-b41d-0f1e0e430552\",\n",
      "                \"relationship--82b6e111-03b0-46fd-8e85-a04ecd24f224\",\n",
      "                \"relationship--2ea1ef9b-6cff-4dd5-a0bd-b181efef86f5\",\n",
      "                \"relationship--d808fa59-4a9d-4175-a4bb-90a013a96af4\",\n",
      "                \"relationship--2416ff14-f1aa-4b58-b0c6-73f4cbb1b680\",\n",
      "                \"relationship--0b28b6c9-fd81-412a-acb6-a2c58ba4b0fc\",\n",
      "                \"relationship--906409f1-70de-4fe7-a500-79dcc089872b\",\n",
      "                \"relationship--12335c41-484d-4e97-9eb0-e7e838a7559c\",\n",
      "                \"relationship--7a6f0be8-f0ce-4a1d-98f8-f8ab21f2164b\",\n",
      "                \"relationship--afabbc91-6c09-404d-9efd-ce226b7d7775\",\n",
      "                \"relationship--32cfbfc5-8764-4522-8b89-07332ce9e211\",\n",
      "                \"relationship--55f059ad-671c-4a18-bebb-fe2767c3f23f\",\n",
      "                \"relationship--9a2d56a0-710e-463c-bd09-1338de984cc6\",\n",
      "                \"relationship--c70bd32f-4b3c-4f6c-a881-aa2ede446b7c\",\n",
      "                \"relationship--612fd8b7-47f6-47a7-a796-30d72f0b782b\",\n",
      "                \"relationship--848edfd4-e75a-425e-827b-ec5d10f430c6\",\n",
      "                \"relationship--6ce87e04-cc93-424e-98fd-cc4d68477056\",\n",
      "                \"relationship--7c4239f0-16a1-4ee7-87dc-ff73e3d3e925\",\n",
      "                \"relationship--a298699d-548d-4073-a2c8-5c1e290177d0\",\n",
      "                \"relationship--f7f7df69-d346-498c-a819-e8f59df9ca9b\",\n",
      "                \"relationship--af091ddf-c2ed-4fb8-840e-570b709f39ba\",\n",
      "                \"relationship--48b879fa-5c88-450c-88f9-c9a7cb660349\",\n",
      "                \"relationship--5d9c47c6-aa59-40cf-acb5-9a062d19222c\",\n",
      "                \"relationship--322d7cb3-3552-4b61-9477-756f7043f7ff\",\n",
      "                \"relationship--b3cce00b-f78e-453f-b8fd-abace96afe21\",\n",
      "                \"relationship--d76aa01e-869d-48d4-a4d9-9c4b42ff135c\",\n",
      "                \"relationship--2dbd5cea-04f7-40e6-8a29-5542c9e1cf12\",\n",
      "                \"relationship--1ed90ce4-5d34-4228-bcaa-ba14ac355a32\",\n",
      "                \"relationship--6a5eed37-2b32-413c-86e1-cdcf64e27569\",\n",
      "                \"relationship--5d76b732-2bf1-46fe-b712-5b235e70b42c\",\n",
      "                \"relationship--5803e85d-f669-481e-82d6-a1d07e7ba52c\",\n",
      "                \"relationship--6c729b73-d825-4d2e-8493-4d3a72801b00\",\n",
      "                \"relationship--d7dbcf52-6ca5-4f5e-b01f-5aa02967d438\",\n",
      "                \"relationship--d5177df0-79d6-434c-9c82-c283705e7ada\",\n",
      "                \"relationship--69b5ec19-b62f-4f83-abc2-f7f0a6aa912e\",\n",
      "                \"relationship--a392fb38-b0c0-41a0-a4a4-9f038c82a7f3\",\n",
      "                \"relationship--d789dfb9-9072-46ed-8f8d-3c14aa1187ed\",\n",
      "                \"relationship--876f6aeb-7a00-4bcd-8909-48cafc2decfb\",\n",
      "                \"attack-pattern--9a31d37f-067f-412f-aa4c-fb60d8083b47\",\n",
      "                \"attack-pattern--ffbfc30b-45e1-43e1-ad20-e8b3c2d6cfb0\",\n",
      "                \"attack-pattern--cd1583ed-94a4-4445-af4f-5eecb85162fc\",\n",
      "                \"indicator--f97adf2b-fe94-49e8-8ab2-fd1b21ba5d4d\",\n",
      "                \"indicator--5c20e701-3fb4-4f4c-b284-facb36acfcbe\",\n",
      "                \"indicator--85b4a898-7d29-4557-a346-6e907112792a\",\n",
      "                \"indicator--cbc2d7bb-8a18-4917-bfd4-286d233d59be\",\n",
      "                \"threat-actor--a7e6382b-53d5-49fb-aa17-4ebed20beb5d\",\n",
      "                \"malware--2a38a22f-9265-4fde-a261-5dafda62f217\",\n",
      "                \"malware--623ead7f-3332-44e7-abf9-6bb7fa1317bc\",\n",
      "                \"vulnerability--14ebea16-6bfd-4653-aa3c-105ec2b26ed6\",\n",
      "                \"vulnerability--19049cb3-00d0-45ce-9a05-9443664ce524\",\n",
      "                \"vulnerability--acce5de8-e5ee-45e4-8845-ab34c3f7ab23\",\n",
      "                \"vulnerability--96f823df-c1e1-4a77-b35b-23ea49201e04\",\n",
      "                \"tool--502558f6-8a67-459b-8da6-4220d12b4906\",\n",
      "                \"tool--acf29be2-066e-488e-ba3e-2243b4388c37\",\n",
      "                \"identity--165897fc-1158-447f-a340-958a40b2e7d2\",\n",
      "                \"identity--e377ed7c-c8db-4fa5-8811-1bb1cd011bfa\",\n",
      "                \"identity--14628870-09d8-46e2-bb13-062de2362e02\",\n",
      "                \"identity--64d50e39-54dd-4f82-b251-decbbfe8b40e\",\n",
      "                \"identity--ca56baa0-50a2-4ae9-bbc7-72b054048008\",\n",
      "                \"observed-data--47020eb3-45cb-4037-828f-f335622bf807\",\n",
      "                \"observed-data--7cb2def2-0929-4d11-a458-d66366242261\",\n",
      "                \"observed-data--476c63f3-0e6c-4688-9761-2426f42caaa1\",\n",
      "                \"observed-data--570fcc14-8d8d-41fd-84c1-fb89cfc8db58\",\n",
      "                \"observed-data--07aa76fe-4ac2-41c8-bc5d-843603e30657\",\n",
      "                \"observed-data--682f7eed-3fd0-4451-ab97-91ff32014e23\",\n",
      "                \"observed-data--27e4b309-8b5a-4d2e-b952-98687e64d4ff\"\n",
      "            ],\n",
      "            \"labels\": [\n",
      "                \"threat-actor\"\n",
      "            ]\n",
      "        },\n",
      "        {\n",
      "            \"type\": \"relationship\",\n",
      "            \"id\": \"relationship--3fbc945e-6d96-4c47-a6ce-9feca1ce9a68\",\n",
      "            \"created\": \"2018-01-13T14:58:38.217Z\",\n",
      "            \"modified\": \"2018-01-13T14:58:38.217Z\",\n",
      "            \"relationship_type\": \"targets\",\n",
      "            \"source_ref\": \"attack-pattern--9a31d37f-067f-412f-aa4c-fb60d8083b47\",\n",
      "            \"target_ref\": \"identity--165897fc-1158-447f-a340-958a40b2e7d2\"\n",
      "        },\n",
      "        {\n",
      "            \"type\": \"relationship\",\n",
      "            \"id\": \"relationship--8de8bb18-66ab-4517-b7ac-7611b133ed34\",\n",
      "            \"created\": \"2018-01-13T14:58:38.217Z\",\n",
      "            \"modified\": \"2018-01-13T14:58:38.217Z\",\n",
      "            \"relationship_type\": \"targets\",\n",
      "            \"source_ref\": \"attack-pattern--ffbfc30b-45e1-43e1-ad20-e8b3c2d6cfb0\",\n",
      "            \"target_ref\": \"identity--165897fc-1158-447f-a340-958a40b2e7d2\"\n",
      "        },\n",
      "        {\n",
      "            \"type\": \"relationship\",\n",
      "            \"id\": \"relationship--b868f872-7092-479e-955d-eae9bdaccd5b\",\n",
      "            \"created\": \"2018-01-13T14:58:38.217Z\",\n",
      "            \"modified\": \"2018-01-13T14:58:38.217Z\",\n",
      "            \"relationship_type\": \"targets\",\n",
      "            \"source_ref\": \"attack-pattern--9a31d37f-067f-412f-aa4c-fb60d8083b47\",\n",
      "            \"target_ref\": \"identity--e377ed7c-c8db-4fa5-8811-1bb1cd011bfa\"\n",
      "        },\n",
      "        {\n",
      "            \"type\": \"relationship\",\n",
      "            \"id\": \"relationship--96c9809a-046f-4299-bfed-34afc8b7ac48\",\n",
      "            \"created\": \"2018-01-13T14:58:38.217Z\",\n",
      "            \"modified\": \"2018-01-13T14:58:38.217Z\",\n",
      "            \"relationship_type\": \"targets\",\n",
      "            \"source_ref\": \"attack-pattern--ffbfc30b-45e1-43e1-ad20-e8b3c2d6cfb0\",\n",
      "            \"target_ref\": \"identity--e377ed7c-c8db-4fa5-8811-1bb1cd011bfa\"\n",
      "        },\n",
      "        {\n",
      "            \"type\": \"relationship\",\n",
      "            \"id\": \"relationship--830a6c20-9cab-4ba0-96b0-c06cb170bdbb\",\n",
      "            \"created\": \"2018-01-13T14:58:38.217Z\",\n",
      "            \"modified\": \"2018-01-13T14:58:38.217Z\",\n",
      "            \"relationship_type\": \"targets\",\n",
      "            \"source_ref\": \"attack-pattern--9a31d37f-067f-412f-aa4c-fb60d8083b47\",\n",
      "            \"target_ref\": \"identity--14628870-09d8-46e2-bb13-062de2362e02\"\n",
      "        },\n",
      "        {\n",
      "            \"type\": \"relationship\",\n",
      "            \"id\": \"relationship--20906da4-b119-4f24-9349-4435a20e2ee6\",\n",
      "            \"created\": \"2018-01-13T14:58:38.217Z\",\n",
      "            \"modified\": \"2018-01-13T14:58:38.217Z\",\n",
      "            \"relationship_type\": \"targets\",\n",
      "            \"source_ref\": \"attack-pattern--ffbfc30b-45e1-43e1-ad20-e8b3c2d6cfb0\",\n",
      "            \"target_ref\": \"identity--14628870-09d8-46e2-bb13-062de2362e02\"\n",
      "        },\n",
      "        {\n",
      "            \"type\": \"relationship\",\n",
      "            \"id\": \"relationship--7913f5c1-4ca7-40c7-baa4-1d8a95fd6093\",\n",
      "            \"created\": \"2018-01-13T14:58:38.217Z\",\n",
      "            \"modified\": \"2018-01-13T14:58:38.217Z\",\n",
      "            \"relationship_type\": \"targets\",\n",
      "            \"source_ref\": \"attack-pattern--9a31d37f-067f-412f-aa4c-fb60d8083b47\",\n",
      "            \"target_ref\": \"identity--64d50e39-54dd-4f82-b251-decbbfe8b40e\"\n",
      "        },\n",
      "        {\n",
      "            \"type\": \"relationship\",\n",
      "            \"id\": \"relationship--d39647dd-fdaf-4b91-8e02-05f9d842a239\",\n",
      "            \"created\": \"2018-01-13T14:58:38.217Z\",\n",
      "            \"modified\": \"2018-01-13T14:58:38.217Z\",\n",
      "            \"relationship_type\": \"targets\",\n",
      "            \"source_ref\": \"attack-pattern--ffbfc30b-45e1-43e1-ad20-e8b3c2d6cfb0\",\n",
      "            \"target_ref\": \"identity--64d50e39-54dd-4f82-b251-decbbfe8b40e\"\n",
      "        },\n",
      "        {\n",
      "            \"type\": \"relationship\",\n",
      "            \"id\": \"relationship--316f64d8-a1c2-42ee-95ea-f1fbb1c4cd8d\",\n",
      "            \"created\": \"2018-01-13T14:58:38.217Z\",\n",
      "            \"modified\": \"2018-01-13T14:58:38.217Z\",\n",
      "            \"relationship_type\": \"targets\",\n",
      "            \"source_ref\": \"attack-pattern--9a31d37f-067f-412f-aa4c-fb60d8083b47\",\n",
      "            \"target_ref\": \"identity--ca56baa0-50a2-4ae9-bbc7-72b054048008\"\n",
      "        },\n",
      "        {\n",
      "            \"type\": \"relationship\",\n",
      "            \"id\": \"relationship--f5319aae-a214-4711-b210-225269f79add\",\n",
      "            \"created\": \"2018-01-13T14:58:38.217Z\",\n",
      "            \"modified\": \"2018-01-13T14:58:38.217Z\",\n",
      "            \"relationship_type\": \"targets\",\n",
      "            \"source_ref\": \"attack-pattern--ffbfc30b-45e1-43e1-ad20-e8b3c2d6cfb0\",\n",
      "            \"target_ref\": \"identity--ca56baa0-50a2-4ae9-bbc7-72b054048008\"\n",
      "        },\n",
      "        {\n",
      "            \"type\": \"relationship\",\n",
      "            \"id\": \"relationship--33c3698b-a84f-4174-9d81-104da8a77fae\",\n",
      "            \"created\": \"2018-01-13T14:58:38.217Z\",\n",
      "            \"modified\": \"2018-01-13T14:58:38.217Z\",\n",
      "            \"relationship_type\": \"targets\",\n",
      "            \"source_ref\": \"attack-pattern--9a31d37f-067f-412f-aa4c-fb60d8083b47\",\n",
      "            \"target_ref\": \"vulnerability--14ebea16-6bfd-4653-aa3c-105ec2b26ed6\"\n",
      "        },\n",
      "        {\n",
      "            \"type\": \"relationship\",\n",
      "            \"id\": \"relationship--498b0301-19cd-4bd0-92bd-cc94b81d3ba6\",\n",
      "            \"created\": \"2018-01-13T14:58:38.217Z\",\n",
      "            \"modified\": \"2018-01-13T14:58:38.217Z\",\n",
      "            \"relationship_type\": \"targets\",\n",
      "            \"source_ref\": \"attack-pattern--ffbfc30b-45e1-43e1-ad20-e8b3c2d6cfb0\",\n",
      "            \"target_ref\": \"vulnerability--14ebea16-6bfd-4653-aa3c-105ec2b26ed6\"\n",
      "        },\n",
      "        {\n",
      "            \"type\": \"relationship\",\n",
      "            \"id\": \"relationship--113301f1-d201-4ce6-b79b-303638c5f599\",\n",
      "            \"created\": \"2018-01-13T14:58:38.217Z\",\n",
      "            \"modified\": \"2018-01-13T14:58:38.217Z\",\n",
      "            \"relationship_type\": \"targets\",\n",
      "            \"source_ref\": \"attack-pattern--9a31d37f-067f-412f-aa4c-fb60d8083b47\",\n",
      "            \"target_ref\": \"vulnerability--19049cb3-00d0-45ce-9a05-9443664ce524\"\n",
      "        },\n",
      "        {\n",
      "            \"type\": \"relationship\",\n",
      "            \"id\": \"relationship--58941173-034c-4583-b91a-5d6a5d9a3612\",\n",
      "            \"created\": \"2018-01-13T14:58:38.217Z\",\n",
      "            \"modified\": \"2018-01-13T14:58:38.217Z\",\n",
      "            \"relationship_type\": \"targets\",\n",
      "            \"source_ref\": \"attack-pattern--ffbfc30b-45e1-43e1-ad20-e8b3c2d6cfb0\",\n",
      "            \"target_ref\": \"vulnerability--19049cb3-00d0-45ce-9a05-9443664ce524\"\n",
      "        },\n",
      "        {\n",
      "            \"type\": \"relationship\",\n",
      "            \"id\": \"relationship--f706effc-df39-4b95-b4e8-fa0156883098\",\n",
      "            \"created\": \"2018-01-13T14:58:38.217Z\",\n",
      "            \"modified\": \"2018-01-13T14:58:38.217Z\",\n",
      "            \"relationship_type\": \"targets\",\n",
      "            \"source_ref\": \"attack-pattern--9a31d37f-067f-412f-aa4c-fb60d8083b47\",\n",
      "            \"target_ref\": \"vulnerability--acce5de8-e5ee-45e4-8845-ab34c3f7ab23\"\n",
      "        },\n",
      "        {\n",
      "            \"type\": \"relationship\",\n",
      "            \"id\": \"relationship--a7139f62-b0db-4d42-950f-6621f1b84f61\",\n",
      "            \"created\": \"2018-01-13T14:58:38.217Z\",\n",
      "            \"modified\": \"2018-01-13T14:58:38.217Z\",\n",
      "            \"relationship_type\": \"targets\",\n",
      "            \"source_ref\": \"attack-pattern--ffbfc30b-45e1-43e1-ad20-e8b3c2d6cfb0\",\n",
      "            \"target_ref\": \"vulnerability--acce5de8-e5ee-45e4-8845-ab34c3f7ab23\"\n",
      "        },\n",
      "        {\n",
      "            \"type\": \"relationship\",\n",
      "            \"id\": \"relationship--154e663e-e6d1-4348-9c31-70bf654e2fe7\",\n",
      "            \"created\": \"2018-01-13T14:58:38.217Z\",\n",
      "            \"modified\": \"2018-01-13T14:58:38.217Z\",\n",
      "            \"relationship_type\": \"targets\",\n",
      "            \"source_ref\": \"attack-pattern--9a31d37f-067f-412f-aa4c-fb60d8083b47\",\n",
      "            \"target_ref\": \"vulnerability--96f823df-c1e1-4a77-b35b-23ea49201e04\"\n",
      "        },\n",
      "        {\n",
      "            \"type\": \"relationship\",\n",
      "            \"id\": \"relationship--63c1faf1-8e7d-4d36-866d-8ec8872de492\",\n",
      "            \"created\": \"2018-01-13T14:58:38.217Z\",\n",
      "            \"modified\": \"2018-01-13T14:58:38.217Z\",\n",
      "            \"relationship_type\": \"targets\",\n",
      "            \"source_ref\": \"attack-pattern--ffbfc30b-45e1-43e1-ad20-e8b3c2d6cfb0\",\n",
      "            \"target_ref\": \"vulnerability--96f823df-c1e1-4a77-b35b-23ea49201e04\"\n",
      "        },\n",
      "        {\n",
      "            \"type\": \"relationship\",\n",
      "            \"id\": \"relationship--7a079528-c88b-4cce-9ddc-20c6d65bdaf8\",\n",
      "            \"created\": \"2018-01-13T14:58:38.217Z\",\n",
      "            \"modified\": \"2018-01-13T14:58:38.217Z\",\n",
      "            \"relationship_type\": \"targets\",\n",
      "            \"source_ref\": \"attack-pattern--cd1583ed-94a4-4445-af4f-5eecb85162fc\",\n",
      "            \"target_ref\": \"identity--165897fc-1158-447f-a340-958a40b2e7d2\"\n",
      "        },\n",
      "        {\n",
      "            \"type\": \"relationship\",\n",
      "            \"id\": \"relationship--ca03242c-8f46-4297-980a-6e9248761bfe\",\n",
      "            \"created\": \"2018-01-13T14:58:38.217Z\",\n",
      "            \"modified\": \"2018-01-13T14:58:38.217Z\",\n",
      "            \"relationship_type\": \"targets\",\n",
      "            \"source_ref\": \"attack-pattern--cd1583ed-94a4-4445-af4f-5eecb85162fc\",\n",
      "            \"target_ref\": \"identity--e377ed7c-c8db-4fa5-8811-1bb1cd011bfa\"\n",
      "        },\n",
      "        {\n",
      "            \"type\": \"relationship\",\n",
      "            \"id\": \"relationship--853e0699-eda2-47f6-bd63-50dc57bdce5d\",\n",
      "            \"created\": \"2018-01-13T14:58:38.217Z\",\n",
      "            \"modified\": \"2018-01-13T14:58:38.217Z\",\n",
      "            \"relationship_type\": \"targets\",\n",
      "            \"source_ref\": \"attack-pattern--cd1583ed-94a4-4445-af4f-5eecb85162fc\",\n",
      "            \"target_ref\": \"identity--14628870-09d8-46e2-bb13-062de2362e02\"\n",
      "        },\n",
      "        {\n",
      "            \"type\": \"relationship\",\n",
      "            \"id\": \"relationship--4872f98b-d1eb-4733-97cb-56a671933bd1\",\n",
      "            \"created\": \"2018-01-13T14:58:38.217Z\",\n",
      "            \"modified\": \"2018-01-13T14:58:38.217Z\",\n",
      "            \"relationship_type\": \"targets\",\n",
      "            \"source_ref\": \"attack-pattern--cd1583ed-94a4-4445-af4f-5eecb85162fc\",\n",
      "            \"target_ref\": \"identity--64d50e39-54dd-4f82-b251-decbbfe8b40e\"\n",
      "        },\n",
      "        {\n",
      "            \"type\": \"relationship\",\n",
      "            \"id\": \"relationship--4d8d6f10-9867-40a8-a7cb-232e4314f8cb\",\n",
      "            \"created\": \"2018-01-13T14:58:38.217Z\",\n",
      "            \"modified\": \"2018-01-13T14:58:38.217Z\",\n",
      "            \"relationship_type\": \"targets\",\n",
      "            \"source_ref\": \"attack-pattern--cd1583ed-94a4-4445-af4f-5eecb85162fc\",\n",
      "            \"target_ref\": \"identity--ca56baa0-50a2-4ae9-bbc7-72b054048008\"\n",
      "        },\n",
      "        {\n",
      "            \"type\": \"relationship\",\n",
      "            \"id\": \"relationship--1fd1abda-3e4e-4b70-aa73-a0044fc041a7\",\n",
      "            \"created\": \"2018-01-13T14:58:38.233Z\",\n",
      "            \"modified\": \"2018-01-13T14:58:38.233Z\",\n",
      "            \"relationship_type\": \"uses\",\n",
      "            \"source_ref\": \"attack-pattern--9a31d37f-067f-412f-aa4c-fb60d8083b47\",\n",
      "            \"target_ref\": \"malware--2a38a22f-9265-4fde-a261-5dafda62f217\"\n",
      "        },\n",
      "        {\n",
      "            \"type\": \"relationship\",\n",
      "            \"id\": \"relationship--0781c142-82e4-4bd1-9ca6-cc56f94d2b23\",\n",
      "            \"created\": \"2018-01-13T14:58:38.233Z\",\n",
      "            \"modified\": \"2018-01-13T14:58:38.233Z\",\n",
      "            \"relationship_type\": \"uses\",\n",
      "            \"source_ref\": \"attack-pattern--ffbfc30b-45e1-43e1-ad20-e8b3c2d6cfb0\",\n",
      "            \"target_ref\": \"malware--2a38a22f-9265-4fde-a261-5dafda62f217\"\n",
      "        },\n",
      "        {\n",
      "            \"type\": \"relationship\",\n",
      "            \"id\": \"relationship--7c64b641-7fb6-425f-89c4-c3693a00e6a1\",\n",
      "            \"created\": \"2018-01-13T14:58:38.233Z\",\n",
      "            \"modified\": \"2018-01-13T14:58:38.233Z\",\n",
      "            \"relationship_type\": \"uses\",\n",
      "            \"source_ref\": \"attack-pattern--ffbfc30b-45e1-43e1-ad20-e8b3c2d6cfb0\",\n",
      "            \"target_ref\": \"malware--623ead7f-3332-44e7-abf9-6bb7fa1317bc\"\n",
      "        },\n",
      "        {\n",
      "            \"type\": \"relationship\",\n",
      "            \"id\": \"relationship--48ca202a-bbb7-45c0-8ebd-b67cb9270410\",\n",
      "            \"created\": \"2018-01-13T14:58:38.164Z\",\n",
      "            \"modified\": \"2018-01-13T14:58:38.164Z\",\n",
      "            \"relationship_type\": \"targets\",\n",
      "            \"source_ref\": \"malware--2a38a22f-9265-4fde-a261-5dafda62f217\",\n",
      "            \"target_ref\": \"vulnerability--14ebea16-6bfd-4653-aa3c-105ec2b26ed6\"\n",
      "        },\n",
      "        {\n",
      "            \"type\": \"relationship\",\n",
      "            \"id\": \"relationship--de86c377-25da-490f-beba-e77feeb0bab6\",\n",
      "            \"created\": \"2018-01-13T14:58:38.164Z\",\n",
      "            \"modified\": \"2018-01-13T14:58:38.164Z\",\n",
      "            \"relationship_type\": \"targets\",\n",
      "            \"source_ref\": \"malware--2a38a22f-9265-4fde-a261-5dafda62f217\",\n",
      "            \"target_ref\": \"vulnerability--19049cb3-00d0-45ce-9a05-9443664ce524\"\n",
      "        },\n",
      "        {\n",
      "            \"type\": \"relationship\",\n",
      "            \"id\": \"relationship--d4c82fb8-209b-439a-b9c0-00bd85db52f9\",\n",
      "            \"created\": \"2018-01-13T14:58:38.164Z\",\n",
      "            \"modified\": \"2018-01-13T14:58:38.164Z\",\n",
      "            \"relationship_type\": \"targets\",\n",
      "            \"source_ref\": \"malware--2a38a22f-9265-4fde-a261-5dafda62f217\",\n",
      "            \"target_ref\": \"vulnerability--acce5de8-e5ee-45e4-8845-ab34c3f7ab23\"\n",
      "        },\n",
      "        {\n",
      "            \"type\": \"relationship\",\n",
      "            \"id\": \"relationship--b24d3fc4-ad5b-448b-8003-f0ebcf487428\",\n",
      "            \"created\": \"2018-01-13T14:58:38.164Z\",\n",
      "            \"modified\": \"2018-01-13T14:58:38.164Z\",\n",
      "            \"relationship_type\": \"targets\",\n",
      "            \"source_ref\": \"malware--2a38a22f-9265-4fde-a261-5dafda62f217\",\n",
      "            \"target_ref\": \"vulnerability--96f823df-c1e1-4a77-b35b-23ea49201e04\"\n",
      "        },\n",
      "        {\n",
      "            \"type\": \"relationship\",\n",
      "            \"id\": \"relationship--d30b5ae3-53c5-4661-9d7b-dddfaeff83c4\",\n",
      "            \"created\": \"2018-01-13T14:58:38.180Z\",\n",
      "            \"modified\": \"2018-01-13T14:58:38.180Z\",\n",
      "            \"relationship_type\": \"targets\",\n",
      "            \"source_ref\": \"malware--2a38a22f-9265-4fde-a261-5dafda62f217\",\n",
      "            \"target_ref\": \"identity--165897fc-1158-447f-a340-958a40b2e7d2\"\n",
      "        },\n",
      "        {\n",
      "            \"type\": \"relationship\",\n",
      "            \"id\": \"relationship--8489db16-7cee-4636-8067-d7fa519ce63b\",\n",
      "            \"created\": \"2018-01-13T14:58:38.180Z\",\n",
      "            \"modified\": \"2018-01-13T14:58:38.180Z\",\n",
      "            \"relationship_type\": \"targets\",\n",
      "            \"source_ref\": \"malware--623ead7f-3332-44e7-abf9-6bb7fa1317bc\",\n",
      "            \"target_ref\": \"identity--165897fc-1158-447f-a340-958a40b2e7d2\"\n",
      "        },\n",
      "        {\n",
      "            \"type\": \"relationship\",\n",
      "            \"id\": \"relationship--c8e4c060-af22-4d5f-b9c4-a505566d0183\",\n",
      "            \"created\": \"2018-01-13T14:58:38.180Z\",\n",
      "            \"modified\": \"2018-01-13T14:58:38.180Z\",\n",
      "            \"relationship_type\": \"targets\",\n",
      "            \"source_ref\": \"malware--2a38a22f-9265-4fde-a261-5dafda62f217\",\n",
      "            \"target_ref\": \"identity--e377ed7c-c8db-4fa5-8811-1bb1cd011bfa\"\n",
      "        },\n",
      "        {\n",
      "            \"type\": \"relationship\",\n",
      "            \"id\": \"relationship--28fd6359-8202-4d1f-b41d-0f1e0e430552\",\n",
      "            \"created\": \"2018-01-13T14:58:38.180Z\",\n",
      "            \"modified\": \"2018-01-13T14:58:38.180Z\",\n",
      "            \"relationship_type\": \"targets\",\n",
      "            \"source_ref\": \"malware--623ead7f-3332-44e7-abf9-6bb7fa1317bc\",\n",
      "            \"target_ref\": \"identity--e377ed7c-c8db-4fa5-8811-1bb1cd011bfa\"\n",
      "        },\n",
      "        {\n",
      "            \"type\": \"relationship\",\n",
      "            \"id\": \"relationship--82b6e111-03b0-46fd-8e85-a04ecd24f224\",\n",
      "            \"created\": \"2018-01-13T14:58:38.180Z\",\n",
      "            \"modified\": \"2018-01-13T14:58:38.180Z\",\n",
      "            \"relationship_type\": \"targets\",\n",
      "            \"source_ref\": \"malware--2a38a22f-9265-4fde-a261-5dafda62f217\",\n",
      "            \"target_ref\": \"identity--14628870-09d8-46e2-bb13-062de2362e02\"\n",
      "        },\n",
      "        {\n",
      "            \"type\": \"relationship\",\n",
      "            \"id\": \"relationship--2ea1ef9b-6cff-4dd5-a0bd-b181efef86f5\",\n",
      "            \"created\": \"2018-01-13T14:58:38.180Z\",\n",
      "            \"modified\": \"2018-01-13T14:58:38.180Z\",\n",
      "            \"relationship_type\": \"targets\",\n",
      "            \"source_ref\": \"malware--623ead7f-3332-44e7-abf9-6bb7fa1317bc\",\n",
      "            \"target_ref\": \"identity--14628870-09d8-46e2-bb13-062de2362e02\"\n",
      "        },\n",
      "        {\n",
      "            \"type\": \"relationship\",\n",
      "            \"id\": \"relationship--d808fa59-4a9d-4175-a4bb-90a013a96af4\",\n",
      "            \"created\": \"2018-01-13T14:58:38.180Z\",\n",
      "            \"modified\": \"2018-01-13T14:58:38.180Z\",\n",
      "            \"relationship_type\": \"targets\",\n",
      "            \"source_ref\": \"malware--2a38a22f-9265-4fde-a261-5dafda62f217\",\n",
      "            \"target_ref\": \"identity--64d50e39-54dd-4f82-b251-decbbfe8b40e\"\n",
      "        },\n",
      "        {\n",
      "            \"type\": \"relationship\",\n",
      "            \"id\": \"relationship--2416ff14-f1aa-4b58-b0c6-73f4cbb1b680\",\n",
      "            \"created\": \"2018-01-13T14:58:38.180Z\",\n",
      "            \"modified\": \"2018-01-13T14:58:38.180Z\",\n",
      "            \"relationship_type\": \"targets\",\n",
      "            \"source_ref\": \"malware--623ead7f-3332-44e7-abf9-6bb7fa1317bc\",\n",
      "            \"target_ref\": \"identity--64d50e39-54dd-4f82-b251-decbbfe8b40e\"\n",
      "        },\n",
      "        {\n",
      "            \"type\": \"relationship\",\n",
      "            \"id\": \"relationship--0b28b6c9-fd81-412a-acb6-a2c58ba4b0fc\",\n",
      "            \"created\": \"2018-01-13T14:58:38.180Z\",\n",
      "            \"modified\": \"2018-01-13T14:58:38.180Z\",\n",
      "            \"relationship_type\": \"targets\",\n",
      "            \"source_ref\": \"malware--2a38a22f-9265-4fde-a261-5dafda62f217\",\n",
      "            \"target_ref\": \"identity--ca56baa0-50a2-4ae9-bbc7-72b054048008\"\n",
      "        },\n",
      "        {\n",
      "            \"type\": \"relationship\",\n",
      "            \"id\": \"relationship--906409f1-70de-4fe7-a500-79dcc089872b\",\n",
      "            \"created\": \"2018-01-13T14:58:38.180Z\",\n",
      "            \"modified\": \"2018-01-13T14:58:38.180Z\",\n",
      "            \"relationship_type\": \"targets\",\n",
      "            \"source_ref\": \"malware--623ead7f-3332-44e7-abf9-6bb7fa1317bc\",\n",
      "            \"target_ref\": \"identity--ca56baa0-50a2-4ae9-bbc7-72b054048008\"\n",
      "        },\n",
      "        {\n",
      "            \"type\": \"relationship\",\n",
      "            \"id\": \"relationship--12335c41-484d-4e97-9eb0-e7e838a7559c\",\n",
      "            \"created\": \"2018-01-13T14:58:38.195Z\",\n",
      "            \"modified\": \"2018-01-13T14:58:38.195Z\",\n",
      "            \"relationship_type\": \"targets\",\n",
      "            \"source_ref\": \"malware--623ead7f-3332-44e7-abf9-6bb7fa1317bc\",\n",
      "            \"target_ref\": \"tool--acf29be2-066e-488e-ba3e-2243b4388c37\"\n",
      "        },\n",
      "        {\n",
      "            \"type\": \"relationship\",\n",
      "            \"id\": \"relationship--7a6f0be8-f0ce-4a1d-98f8-f8ab21f2164b\",\n",
      "            \"created\": \"2018-01-13T14:58:38.125Z\",\n",
      "            \"modified\": \"2018-01-13T14:58:38.125Z\",\n",
      "            \"relationship_type\": \"targets\",\n",
      "            \"source_ref\": \"threat-actor--a7e6382b-53d5-49fb-aa17-4ebed20beb5d\",\n",
      "            \"target_ref\": \"identity--165897fc-1158-447f-a340-958a40b2e7d2\"\n",
      "        },\n",
      "        {\n",
      "            \"type\": \"relationship\",\n",
      "            \"id\": \"relationship--afabbc91-6c09-404d-9efd-ce226b7d7775\",\n",
      "            \"created\": \"2018-01-13T14:58:38.125Z\",\n",
      "            \"modified\": \"2018-01-13T14:58:38.125Z\",\n",
      "            \"relationship_type\": \"targets\",\n",
      "            \"source_ref\": \"threat-actor--a7e6382b-53d5-49fb-aa17-4ebed20beb5d\",\n",
      "            \"target_ref\": \"identity--e377ed7c-c8db-4fa5-8811-1bb1cd011bfa\"\n",
      "        },\n",
      "        {\n",
      "            \"type\": \"relationship\",\n",
      "            \"id\": \"relationship--32cfbfc5-8764-4522-8b89-07332ce9e211\",\n",
      "            \"created\": \"2018-01-13T14:58:38.125Z\",\n",
      "            \"modified\": \"2018-01-13T14:58:38.125Z\",\n",
      "            \"relationship_type\": \"targets\",\n",
      "            \"source_ref\": \"threat-actor--a7e6382b-53d5-49fb-aa17-4ebed20beb5d\",\n",
      "            \"target_ref\": \"identity--14628870-09d8-46e2-bb13-062de2362e02\"\n",
      "        },\n",
      "        {\n",
      "            \"type\": \"relationship\",\n",
      "            \"id\": \"relationship--55f059ad-671c-4a18-bebb-fe2767c3f23f\",\n",
      "            \"created\": \"2018-01-13T14:58:38.126Z\",\n",
      "            \"modified\": \"2018-01-13T14:58:38.126Z\",\n",
      "            \"relationship_type\": \"targets\",\n",
      "            \"source_ref\": \"threat-actor--a7e6382b-53d5-49fb-aa17-4ebed20beb5d\",\n",
      "            \"target_ref\": \"identity--64d50e39-54dd-4f82-b251-decbbfe8b40e\"\n",
      "        },\n",
      "        {\n",
      "            \"type\": \"relationship\",\n",
      "            \"id\": \"relationship--9a2d56a0-710e-463c-bd09-1338de984cc6\",\n",
      "            \"created\": \"2018-01-13T14:58:38.126Z\",\n",
      "            \"modified\": \"2018-01-13T14:58:38.126Z\",\n",
      "            \"relationship_type\": \"targets\",\n",
      "            \"source_ref\": \"threat-actor--a7e6382b-53d5-49fb-aa17-4ebed20beb5d\",\n",
      "            \"target_ref\": \"identity--ca56baa0-50a2-4ae9-bbc7-72b054048008\"\n",
      "        },\n",
      "        {\n",
      "            \"type\": \"relationship\",\n",
      "            \"id\": \"relationship--c70bd32f-4b3c-4f6c-a881-aa2ede446b7c\",\n",
      "            \"created\": \"2018-01-13T14:58:38.126Z\",\n",
      "            \"modified\": \"2018-01-13T14:58:38.126Z\",\n",
      "            \"relationship_type\": \"targets\",\n",
      "            \"source_ref\": \"threat-actor--a7e6382b-53d5-49fb-aa17-4ebed20beb5d\",\n",
      "            \"target_ref\": \"vulnerability--14ebea16-6bfd-4653-aa3c-105ec2b26ed6\"\n",
      "        },\n",
      "        {\n",
      "            \"type\": \"relationship\",\n",
      "            \"id\": \"relationship--612fd8b7-47f6-47a7-a796-30d72f0b782b\",\n",
      "            \"created\": \"2018-01-13T14:58:38.126Z\",\n",
      "            \"modified\": \"2018-01-13T14:58:38.126Z\",\n",
      "            \"relationship_type\": \"targets\",\n",
      "            \"source_ref\": \"threat-actor--a7e6382b-53d5-49fb-aa17-4ebed20beb5d\",\n",
      "            \"target_ref\": \"vulnerability--19049cb3-00d0-45ce-9a05-9443664ce524\"\n",
      "        },\n",
      "        {\n",
      "            \"type\": \"relationship\",\n",
      "            \"id\": \"relationship--848edfd4-e75a-425e-827b-ec5d10f430c6\",\n",
      "            \"created\": \"2018-01-13T14:58:38.126Z\",\n",
      "            \"modified\": \"2018-01-13T14:58:38.126Z\",\n",
      "            \"relationship_type\": \"targets\",\n",
      "            \"source_ref\": \"threat-actor--a7e6382b-53d5-49fb-aa17-4ebed20beb5d\",\n",
      "            \"target_ref\": \"vulnerability--acce5de8-e5ee-45e4-8845-ab34c3f7ab23\"\n",
      "        },\n",
      "        {\n",
      "            \"type\": \"relationship\",\n",
      "            \"id\": \"relationship--6ce87e04-cc93-424e-98fd-cc4d68477056\",\n",
      "            \"created\": \"2018-01-13T14:58:38.126Z\",\n",
      "            \"modified\": \"2018-01-13T14:58:38.126Z\",\n",
      "            \"relationship_type\": \"targets\",\n",
      "            \"source_ref\": \"threat-actor--a7e6382b-53d5-49fb-aa17-4ebed20beb5d\",\n",
      "            \"target_ref\": \"vulnerability--96f823df-c1e1-4a77-b35b-23ea49201e04\"\n",
      "        },\n",
      "        {\n",
      "            \"type\": \"relationship\",\n",
      "            \"id\": \"relationship--7c4239f0-16a1-4ee7-87dc-ff73e3d3e925\",\n",
      "            \"created\": \"2018-01-13T14:58:38.133Z\",\n",
      "            \"modified\": \"2018-01-13T14:58:38.133Z\",\n",
      "            \"relationship_type\": \"uses\",\n",
      "            \"source_ref\": \"threat-actor--a7e6382b-53d5-49fb-aa17-4ebed20beb5d\",\n",
      "            \"target_ref\": \"attack-pattern--9a31d37f-067f-412f-aa4c-fb60d8083b47\"\n",
      "        },\n",
      "        {\n",
      "            \"type\": \"relationship\",\n",
      "            \"id\": \"relationship--a298699d-548d-4073-a2c8-5c1e290177d0\",\n",
      "            \"created\": \"2018-01-13T14:58:38.133Z\",\n",
      "            \"modified\": \"2018-01-13T14:58:38.133Z\",\n",
      "            \"relationship_type\": \"uses\",\n",
      "            \"source_ref\": \"threat-actor--a7e6382b-53d5-49fb-aa17-4ebed20beb5d\",\n",
      "            \"target_ref\": \"attack-pattern--ffbfc30b-45e1-43e1-ad20-e8b3c2d6cfb0\"\n",
      "        },\n",
      "        {\n",
      "            \"type\": \"relationship\",\n",
      "            \"id\": \"relationship--f7f7df69-d346-498c-a819-e8f59df9ca9b\",\n",
      "            \"created\": \"2018-01-13T14:58:38.133Z\",\n",
      "            \"modified\": \"2018-01-13T14:58:38.133Z\",\n",
      "            \"relationship_type\": \"uses\",\n",
      "            \"source_ref\": \"threat-actor--a7e6382b-53d5-49fb-aa17-4ebed20beb5d\",\n",
      "            \"target_ref\": \"attack-pattern--cd1583ed-94a4-4445-af4f-5eecb85162fc\"\n",
      "        },\n",
      "        {\n",
      "            \"type\": \"relationship\",\n",
      "            \"id\": \"relationship--af091ddf-c2ed-4fb8-840e-570b709f39ba\",\n",
      "            \"created\": \"2018-01-13T14:58:38.133Z\",\n",
      "            \"modified\": \"2018-01-13T14:58:38.133Z\",\n",
      "            \"relationship_type\": \"uses\",\n",
      "            \"source_ref\": \"threat-actor--a7e6382b-53d5-49fb-aa17-4ebed20beb5d\",\n",
      "            \"target_ref\": \"tool--502558f6-8a67-459b-8da6-4220d12b4906\"\n",
      "        },\n",
      "        {\n",
      "            \"type\": \"relationship\",\n",
      "            \"id\": \"relationship--48b879fa-5c88-450c-88f9-c9a7cb660349\",\n",
      "            \"created\": \"2018-01-13T14:58:38.133Z\",\n",
      "            \"modified\": \"2018-01-13T14:58:38.133Z\",\n",
      "            \"relationship_type\": \"uses\",\n",
      "            \"source_ref\": \"threat-actor--a7e6382b-53d5-49fb-aa17-4ebed20beb5d\",\n",
      "            \"target_ref\": \"tool--acf29be2-066e-488e-ba3e-2243b4388c37\"\n",
      "        },\n",
      "        {\n",
      "            \"type\": \"relationship\",\n",
      "            \"id\": \"relationship--5d9c47c6-aa59-40cf-acb5-9a062d19222c\",\n",
      "            \"created\": \"2018-01-13T14:58:38.133Z\",\n",
      "            \"modified\": \"2018-01-13T14:58:38.133Z\",\n",
      "            \"relationship_type\": \"uses\",\n",
      "            \"source_ref\": \"threat-actor--a7e6382b-53d5-49fb-aa17-4ebed20beb5d\",\n",
      "            \"target_ref\": \"malware--2a38a22f-9265-4fde-a261-5dafda62f217\"\n",
      "        },\n",
      "        {\n",
      "            \"type\": \"relationship\",\n",
      "            \"id\": \"relationship--322d7cb3-3552-4b61-9477-756f7043f7ff\",\n",
      "            \"created\": \"2018-01-13T14:58:38.133Z\",\n",
      "            \"modified\": \"2018-01-13T14:58:38.133Z\",\n",
      "            \"relationship_type\": \"uses\",\n",
      "            \"source_ref\": \"threat-actor--a7e6382b-53d5-49fb-aa17-4ebed20beb5d\",\n",
      "            \"target_ref\": \"malware--623ead7f-3332-44e7-abf9-6bb7fa1317bc\"\n",
      "        },\n",
      "        {\n",
      "            \"type\": \"relationship\",\n",
      "            \"id\": \"relationship--b3cce00b-f78e-453f-b8fd-abace96afe21\",\n",
      "            \"created\": \"2018-01-13T14:58:38.039Z\",\n",
      "            \"modified\": \"2018-01-13T14:58:38.039Z\",\n",
      "            \"relationship_type\": \"indicates\",\n",
      "            \"source_ref\": \"indicator--f97adf2b-fe94-49e8-8ab2-fd1b21ba5d4d\",\n",
      "            \"target_ref\": \"attack-pattern--9a31d37f-067f-412f-aa4c-fb60d8083b47\"\n",
      "        },\n",
      "        {\n",
      "            \"type\": \"relationship\",\n",
      "            \"id\": \"relationship--d76aa01e-869d-48d4-a4d9-9c4b42ff135c\",\n",
      "            \"created\": \"2018-01-13T14:58:38.054Z\",\n",
      "            \"modified\": \"2018-01-13T14:58:38.054Z\",\n",
      "            \"relationship_type\": \"indicates\",\n",
      "            \"source_ref\": \"indicator--5c20e701-3fb4-4f4c-b284-facb36acfcbe\",\n",
      "            \"target_ref\": \"attack-pattern--9a31d37f-067f-412f-aa4c-fb60d8083b47\"\n",
      "        },\n",
      "        {\n",
      "            \"type\": \"relationship\",\n",
      "            \"id\": \"relationship--2dbd5cea-04f7-40e6-8a29-5542c9e1cf12\",\n",
      "            \"created\": \"2018-01-13T14:58:38.054Z\",\n",
      "            \"modified\": \"2018-01-13T14:58:38.054Z\",\n",
      "            \"relationship_type\": \"indicates\",\n",
      "            \"source_ref\": \"indicator--f97adf2b-fe94-49e8-8ab2-fd1b21ba5d4d\",\n",
      "            \"target_ref\": \"attack-pattern--ffbfc30b-45e1-43e1-ad20-e8b3c2d6cfb0\"\n",
      "        },\n",
      "        {\n",
      "            \"type\": \"relationship\",\n",
      "            \"id\": \"relationship--1ed90ce4-5d34-4228-bcaa-ba14ac355a32\",\n",
      "            \"created\": \"2018-01-13T14:58:38.054Z\",\n",
      "            \"modified\": \"2018-01-13T14:58:38.054Z\",\n",
      "            \"relationship_type\": \"indicates\",\n",
      "            \"source_ref\": \"indicator--5c20e701-3fb4-4f4c-b284-facb36acfcbe\",\n",
      "            \"target_ref\": \"attack-pattern--ffbfc30b-45e1-43e1-ad20-e8b3c2d6cfb0\"\n",
      "        },\n",
      "        {\n",
      "            \"type\": \"relationship\",\n",
      "            \"id\": \"relationship--6a5eed37-2b32-413c-86e1-cdcf64e27569\",\n",
      "            \"created\": \"2018-01-13T14:58:38.054Z\",\n",
      "            \"modified\": \"2018-01-13T14:58:38.054Z\",\n",
      "            \"relationship_type\": \"indicates\",\n",
      "            \"source_ref\": \"indicator--85b4a898-7d29-4557-a346-6e907112792a\",\n",
      "            \"target_ref\": \"attack-pattern--ffbfc30b-45e1-43e1-ad20-e8b3c2d6cfb0\"\n",
      "        },\n",
      "        {\n",
      "            \"type\": \"relationship\",\n",
      "            \"id\": \"relationship--5d76b732-2bf1-46fe-b712-5b235e70b42c\",\n",
      "            \"created\": \"2018-01-13T14:58:38.054Z\",\n",
      "            \"modified\": \"2018-01-13T14:58:38.054Z\",\n",
      "            \"relationship_type\": \"indicates\",\n",
      "            \"source_ref\": \"indicator--cbc2d7bb-8a18-4917-bfd4-286d233d59be\",\n",
      "            \"target_ref\": \"attack-pattern--ffbfc30b-45e1-43e1-ad20-e8b3c2d6cfb0\"\n",
      "        },\n",
      "        {\n",
      "            \"type\": \"relationship\",\n",
      "            \"id\": \"relationship--5803e85d-f669-481e-82d6-a1d07e7ba52c\",\n",
      "            \"created\": \"2018-01-13T14:58:38.054Z\",\n",
      "            \"modified\": \"2018-01-13T14:58:38.054Z\",\n",
      "            \"relationship_type\": \"indicates\",\n",
      "            \"source_ref\": \"indicator--f97adf2b-fe94-49e8-8ab2-fd1b21ba5d4d\",\n",
      "            \"target_ref\": \"malware--623ead7f-3332-44e7-abf9-6bb7fa1317bc\"\n",
      "        },\n",
      "        {\n",
      "            \"type\": \"relationship\",\n",
      "            \"id\": \"relationship--6c729b73-d825-4d2e-8493-4d3a72801b00\",\n",
      "            \"created\": \"2018-01-13T14:58:38.054Z\",\n",
      "            \"modified\": \"2018-01-13T14:58:38.054Z\",\n",
      "            \"relationship_type\": \"indicates\",\n",
      "            \"source_ref\": \"indicator--5c20e701-3fb4-4f4c-b284-facb36acfcbe\",\n",
      "            \"target_ref\": \"malware--623ead7f-3332-44e7-abf9-6bb7fa1317bc\"\n",
      "        },\n",
      "        {\n",
      "            \"type\": \"relationship\",\n",
      "            \"id\": \"relationship--d7dbcf52-6ca5-4f5e-b01f-5aa02967d438\",\n",
      "            \"created\": \"2018-01-13T14:58:38.054Z\",\n",
      "            \"modified\": \"2018-01-13T14:58:38.054Z\",\n",
      "            \"relationship_type\": \"indicates\",\n",
      "            \"source_ref\": \"indicator--85b4a898-7d29-4557-a346-6e907112792a\",\n",
      "            \"target_ref\": \"malware--623ead7f-3332-44e7-abf9-6bb7fa1317bc\"\n",
      "        },\n",
      "        {\n",
      "            \"type\": \"relationship\",\n",
      "            \"id\": \"relationship--d5177df0-79d6-434c-9c82-c283705e7ada\",\n",
      "            \"created\": \"2018-01-13T14:58:38.070Z\",\n",
      "            \"modified\": \"2018-01-13T14:58:38.070Z\",\n",
      "            \"relationship_type\": \"indicates\",\n",
      "            \"source_ref\": \"indicator--f97adf2b-fe94-49e8-8ab2-fd1b21ba5d4d\",\n",
      "            \"target_ref\": \"threat-actor--a7e6382b-53d5-49fb-aa17-4ebed20beb5d\"\n",
      "        },\n",
      "        {\n",
      "            \"type\": \"relationship\",\n",
      "            \"id\": \"relationship--69b5ec19-b62f-4f83-abc2-f7f0a6aa912e\",\n",
      "            \"created\": \"2018-01-13T14:58:38.070Z\",\n",
      "            \"modified\": \"2018-01-13T14:58:38.070Z\",\n",
      "            \"relationship_type\": \"indicates\",\n",
      "            \"source_ref\": \"indicator--5c20e701-3fb4-4f4c-b284-facb36acfcbe\",\n",
      "            \"target_ref\": \"threat-actor--a7e6382b-53d5-49fb-aa17-4ebed20beb5d\"\n",
      "        },\n",
      "        {\n",
      "            \"type\": \"relationship\",\n",
      "            \"id\": \"relationship--a392fb38-b0c0-41a0-a4a4-9f038c82a7f3\",\n",
      "            \"created\": \"2018-01-13T14:58:38.070Z\",\n",
      "            \"modified\": \"2018-01-13T14:58:38.070Z\",\n",
      "            \"relationship_type\": \"indicates\",\n",
      "            \"source_ref\": \"indicator--85b4a898-7d29-4557-a346-6e907112792a\",\n",
      "            \"target_ref\": \"threat-actor--a7e6382b-53d5-49fb-aa17-4ebed20beb5d\"\n",
      "        },\n",
      "        {\n",
      "            \"type\": \"relationship\",\n",
      "            \"id\": \"relationship--d789dfb9-9072-46ed-8f8d-3c14aa1187ed\",\n",
      "            \"created\": \"2018-01-13T14:58:38.070Z\",\n",
      "            \"modified\": \"2018-01-13T14:58:38.070Z\",\n",
      "            \"relationship_type\": \"indicates\",\n",
      "            \"source_ref\": \"indicator--cbc2d7bb-8a18-4917-bfd4-286d233d59be\",\n",
      "            \"target_ref\": \"threat-actor--a7e6382b-53d5-49fb-aa17-4ebed20beb5d\"\n",
      "        },\n",
      "        {\n",
      "            \"type\": \"relationship\",\n",
      "            \"id\": \"relationship--876f6aeb-7a00-4bcd-8909-48cafc2decfb\",\n",
      "            \"created\": \"2018-01-13T14:58:38.086Z\",\n",
      "            \"modified\": \"2018-01-13T14:58:38.086Z\",\n",
      "            \"relationship_type\": \"indicates\",\n",
      "            \"source_ref\": \"indicator--cbc2d7bb-8a18-4917-bfd4-286d233d59be\",\n",
      "            \"target_ref\": \"tool--502558f6-8a67-459b-8da6-4220d12b4906\"\n",
      "        },\n",
      "        {\n",
      "            \"type\": \"attack-pattern\",\n",
      "            \"id\": \"attack-pattern--9a31d37f-067f-412f-aa4c-fb60d8083b47\",\n",
      "            \"created\": \"2018-01-13T14:58:38.023Z\",\n",
      "            \"modified\": \"2018-01-13T14:58:38.023Z\",\n",
      "            \"name\": \"Spear Phishing\",\n",
      "            \"description\": \"The malicious code was delivered via e-mail as attachments (Microsoft Excel, Word and, probably PDF documents) which were rigged with exploit code for known security vulnerabilities in the mentioned applications. E-mail subject lines as well as the text in e-mail bodies varied depending on the target (recipient). The attached file contained the exploit code which activated a Trojan dropper in the system.\",\n",
      "            \"kill_chain_phases\": [\n",
      "                {\n",
      "                    \"kill_chain_name\": \"mandiant-attack-lifecycle-model\",\n",
      "                    \"phase_name\": \"initial-compromise\"\n",
      "                }\n",
      "            ],\n",
      "            \"external_references\": [\n",
      "                {\n",
      "                    \"source_name\": \"capec\",\n",
      "                    \"external_id\": \"CAPEC-163\",\n",
      "                    \"description\": \"Spear Phishing\"\n",
      "                }\n",
      "            ]\n",
      "        },\n",
      "        {\n",
      "            \"type\": \"attack-pattern\",\n",
      "            \"id\": \"attack-pattern--ffbfc30b-45e1-43e1-ad20-e8b3c2d6cfb0\",\n",
      "            \"created\": \"2018-01-13T14:58:38.023Z\",\n",
      "            \"modified\": \"2018-01-13T14:58:38.023Z\",\n",
      "            \"name\": \"Targeted Malware\",\n",
      "            \"description\": \"Right after the victim opened the malicious document or visit malicious URL on a vulnerable system, the embedded malicious code initiated the setup of the main component which in turn handled further communication with the C&C servers. The main purpose of the spying modules is to steal information. This includes files from different cryptographic systems, such as \\\"Acid Cryptofiler\\\", which is known to be used in organizations of European Union/European Parliament/European Commission since the summer of 2011. All gathered information is packed, encrypted and only then transferred to the C&C server.\",\n",
      "            \"kill_chain_phases\": [\n",
      "                {\n",
      "                    \"kill_chain_name\": \"mandiant-attack-lifecycle-model\",\n",
      "                    \"phase_name\": \"installation\"\n",
      "                }\n",
      "            ],\n",
      "            \"external_references\": [\n",
      "                {\n",
      "                    \"source_name\": \"capec\",\n",
      "                    \"external_id\": \"CAPEC-542\",\n",
      "                    \"description\": \"Targeted Malware\"\n",
      "                }\n",
      "            ]\n",
      "        },\n",
      "        {\n",
      "            \"type\": \"attack-pattern\",\n",
      "            \"id\": \"attack-pattern--cd1583ed-94a4-4445-af4f-5eecb85162fc\",\n",
      "            \"created\": \"2018-01-13T14:58:38.023Z\",\n",
      "            \"modified\": \"2018-01-13T14:58:38.023Z\",\n",
      "            \"name\": \"Dictionary-based Password Attack\",\n",
      "            \"description\": \"Stolen credentials were compiled in a list and used when the attackers needed to guess secret phrase in other locations.\",\n",
      "            \"kill_chain_phases\": [\n",
      "                {\n",
      "                    \"kill_chain_name\": \"mandiant-attack-lifecycle-model\",\n",
      "                    \"phase_name\": \"installation\"\n",
      "                }\n",
      "            ],\n",
      "            \"external_references\": [\n",
      "                {\n",
      "                    \"source_name\": \"capec\",\n",
      "                    \"external_id\": \"CAPEC-542\",\n",
      "                    \"description\": \"Dictionary-based Password Attack\"\n",
      "                }\n",
      "            ]\n",
      "        },\n",
      "        {\n",
      "            \"type\": \"indicator\",\n",
      "            \"id\": \"indicator--f97adf2b-fe94-49e8-8ab2-fd1b21ba5d4d\",\n",
      "            \"created\": \"2018-01-13T14:58:37.929Z\",\n",
      "            \"modified\": \"2018-01-13T14:58:37.929Z\",\n",
      "            \"name\": \"Trojan Files\",\n",
      "            \"description\": \"Those files is extract and run by the file-dropper.\",\n",
      "            \"pattern\": \"[file:name = 'MSC.BAT' AND file:name = 'NTSVCHOST.EXE']\",\n",
      "            \"valid_from\": \"2007-04-27T09:00:00Z\",\n",
      "            \"labels\": [\n",
      "                \"malicious-activity\",\n",
      "                \"compromised\"\n",
      "            ]\n",
      "        },\n",
      "        {\n",
      "            \"type\": \"indicator\",\n",
      "            \"id\": \"indicator--5c20e701-3fb4-4f4c-b284-facb36acfcbe\",\n",
      "            \"created\": \"2018-01-13T14:58:37.945Z\",\n",
      "            \"modified\": \"2018-01-13T14:58:37.945Z\",\n",
      "            \"name\": \"C2 Domains\",\n",
      "            \"description\": \"Domains used for command and control\",\n",
      "            \"pattern\": \"([network-traffic:dst_ref.type = 'domain-name' AND network-traffic:dst_ref.value = 'shellupdate.com'] OR [network-traffic:dst_ref.type = 'domain-name' AND network-traffic:dst_ref.value = 'msgenuine.net'])\",\n",
      "            \"valid_from\": \"2007-04-27T09:00:00Z\",\n",
      "            \"labels\": [\n",
      "                \"malicious-activity\"\n",
      "            ]\n",
      "        },\n",
      "        {\n",
      "            \"type\": \"indicator\",\n",
      "            \"id\": \"indicator--85b4a898-7d29-4557-a346-6e907112792a\",\n",
      "            \"created\": \"2018-01-13T14:58:37.961Z\",\n",
      "            \"modified\": \"2018-01-13T14:58:37.961Z\",\n",
      "            \"name\": \"Stream Redirection to 'mini-motherships'\",\n",
      "            \"description\": \"The C2 servers proved to be a proxy, which was forwarding the request to another server\",\n",
      "            \"pattern\": \"[network-traffic:dst_ref.type = 'ipv4-addr' AND network-traffic:dst_ref.value = '37.235.54.48'] OR [network-traffic:dst_ref.type = 'ipv4-addr' AND network-traffic:dst_ref.value = '31.41.45.119']\",\n",
      "            \"valid_from\": \"2007-04-27T09:00:00Z\",\n",
      "            \"labels\": [\n",
      "                \"malicious-activity\"\n",
      "            ]\n",
      "        },\n",
      "        {\n",
      "            \"type\": \"indicator\",\n",
      "            \"id\": \"indicator--cbc2d7bb-8a18-4917-bfd4-286d233d59be\",\n",
      "            \"created\": \"2018-01-13T14:58:37.976Z\",\n",
      "            \"modified\": \"2018-01-13T14:58:37.976Z\",\n",
      "            \"name\": \"C2 servers IP\",\n",
      "            \"description\": \"Different servers which exhibited confirmed malicious behavior.\",\n",
      "            \"pattern\": \"([file:name = '/root/scp.pl' AND process:name = 'scp.pl' AND software:name = 'socat']) FOLLOWEDBY [network-traffic:dst_ref.type = 'ipv4-addr' AND network-traffic:dst_ref.value = '31.41.45.139']\",\n",
      "            \"valid_from\": \"2007-04-27T09:00:00Z\",\n",
      "            \"labels\": [\n",
      "                \"malicious-activity\"\n",
      "            ]\n",
      "        },\n",
      "        {\n",
      "            \"type\": \"threat-actor\",\n",
      "            \"id\": \"threat-actor--a7e6382b-53d5-49fb-aa17-4ebed20beb5d\",\n",
      "            \"created\": \"2018-01-13T14:58:37.914Z\",\n",
      "            \"modified\": \"2018-01-13T14:58:37.914Z\",\n",
      "            \"name\": \"Unknown\",\n",
      "            \"description\": \"Strongly believe that the attackers have Russian-speaking origins. Current attackers and executables developed by them have been unknown until recently, they have never related toany other targeted cyberattacks.\",\n",
      "            \"roles\": [\n",
      "                \"infrastructure-operator\"\n",
      "            ],\n",
      "            \"goals\": [\n",
      "                \"gather intelligence\"\n",
      "            ],\n",
      "            \"sophistication\": \"advanced\",\n",
      "            \"labels\": [\n",
      "                \"spy\"\n",
      "            ]\n",
      "        },\n",
      "        {\n",
      "            \"type\": \"malware\",\n",
      "            \"id\": \"malware--2a38a22f-9265-4fde-a261-5dafda62f217\",\n",
      "            \"created\": \"2018-01-13T14:58:37.898Z\",\n",
      "            \"modified\": \"2018-01-13T14:58:37.898Z\",\n",
      "            \"name\": \"Trojan.Win32.Generic\",\n",
      "            \"labels\": [\n",
      "                \"dropper\",\n",
      "                \"trojan\"\n",
      "            ]\n",
      "        },\n",
      "        {\n",
      "            \"type\": \"malware\",\n",
      "            \"id\": \"malware--623ead7f-3332-44e7-abf9-6bb7fa1317bc\",\n",
      "            \"created\": \"2018-01-13T14:58:37.898Z\",\n",
      "            \"modified\": \"2018-01-13T14:58:37.898Z\",\n",
      "            \"name\": \"Unknwon (LHAFD.GCP)\",\n",
      "            \"labels\": [\n",
      "                \"backdoor\",\n",
      "                \"trojan\"\n",
      "            ]\n",
      "        },\n",
      "        {\n",
      "            \"type\": \"vulnerability\",\n",
      "            \"id\": \"vulnerability--14ebea16-6bfd-4653-aa3c-105ec2b26ed6\",\n",
      "            \"created\": \"2018-01-13T14:58:37.883Z\",\n",
      "            \"modified\": \"2018-01-13T14:58:37.883Z\",\n",
      "            \"name\": \"CVE-2009-3129\",\n",
      "            \"description\": \"Vulnerability in MS Excel\",\n",
      "            \"external_references\": [\n",
      "                {\n",
      "                    \"source_name\": \"cve\",\n",
      "                    \"external_id\": \"CVE-2009-3129\"\n",
      "                }\n",
      "            ]\n",
      "        },\n",
      "        {\n",
      "            \"type\": \"vulnerability\",\n",
      "            \"id\": \"vulnerability--19049cb3-00d0-45ce-9a05-9443664ce524\",\n",
      "            \"created\": \"2018-01-13T14:58:37.883Z\",\n",
      "            \"modified\": \"2018-01-13T14:58:37.883Z\",\n",
      "            \"name\": \"CVE-2010-3333\",\n",
      "            \"description\": \"Vulnerability in MS Word\",\n",
      "            \"external_references\": [\n",
      "                {\n",
      "                    \"source_name\": \"cve\",\n",
      "                    \"external_id\": \"CVE-2010-3333\"\n",
      "                }\n",
      "            ]\n",
      "        },\n",
      "        {\n",
      "            \"type\": \"vulnerability\",\n",
      "            \"id\": \"vulnerability--acce5de8-e5ee-45e4-8845-ab34c3f7ab23\",\n",
      "            \"created\": \"2018-01-13T14:58:37.883Z\",\n",
      "            \"modified\": \"2018-01-13T14:58:37.883Z\",\n",
      "            \"name\": \"CVE-2012-0158\",\n",
      "            \"description\": \"Vulnerability in MS Word\",\n",
      "            \"external_references\": [\n",
      "                {\n",
      "                    \"source_name\": \"cve\",\n",
      "                    \"external_id\": \"CVE-2012-0158\"\n",
      "                }\n",
      "            ]\n",
      "        },\n",
      "        {\n",
      "            \"type\": \"vulnerability\",\n",
      "            \"id\": \"vulnerability--96f823df-c1e1-4a77-b35b-23ea49201e04\",\n",
      "            \"created\": \"2018-01-13T14:58:37.883Z\",\n",
      "            \"modified\": \"2018-01-13T14:58:37.883Z\",\n",
      "            \"name\": \"Rhino\",\n",
      "            \"description\": \"Vulnerability in Java\",\n",
      "            \"external_references\": [\n",
      "                {\n",
      "                    \"source_name\": \"cve\",\n",
      "                    \"external_id\": \"CVE-2011-3544\"\n",
      "                }\n",
      "            ]\n",
      "        },\n",
      "        {\n",
      "            \"type\": \"tool\",\n",
      "            \"id\": \"tool--502558f6-8a67-459b-8da6-4220d12b4906\",\n",
      "            \"created\": \"2018-01-13T14:58:37.867Z\",\n",
      "            \"modified\": \"2018-01-13T14:58:37.867Z\",\n",
      "            \"name\": \"socat\",\n",
      "            \"labels\": [\n",
      "                \"network-capture\"\n",
      "            ]\n",
      "        },\n",
      "        {\n",
      "            \"type\": \"tool\",\n",
      "            \"id\": \"tool--acf29be2-066e-488e-ba3e-2243b4388c37\",\n",
      "            \"created\": \"2018-01-13T14:58:37.867Z\",\n",
      "            \"modified\": \"2018-01-13T14:58:37.867Z\",\n",
      "            \"name\": \"Acid Cryptofiler\",\n",
      "            \"labels\": [\n",
      "                \"credential-exploitation\"\n",
      "            ]\n",
      "        },\n",
      "        {\n",
      "            \"type\": \"identity\",\n",
      "            \"id\": \"identity--165897fc-1158-447f-a340-958a40b2e7d2\",\n",
      "            \"created\": \"2018-01-13T14:58:37.851Z\",\n",
      "            \"modified\": \"2018-01-13T14:58:37.851Z\",\n",
      "            \"name\": \"Algeria Embassy\",\n",
      "            \"identity_class\": \"organization\"\n",
      "        },\n",
      "        {\n",
      "            \"type\": \"identity\",\n",
      "            \"id\": \"identity--e377ed7c-c8db-4fa5-8811-1bb1cd011bfa\",\n",
      "            \"created\": \"2018-01-13T14:58:37.851Z\",\n",
      "            \"modified\": \"2018-01-13T14:58:37.851Z\",\n",
      "            \"name\": \"Israel Embassy\",\n",
      "            \"identity_class\": \"organization\"\n",
      "        },\n",
      "        {\n",
      "            \"type\": \"identity\",\n",
      "            \"id\": \"identity--14628870-09d8-46e2-bb13-062de2362e02\",\n",
      "            \"created\": \"2018-01-13T14:58:37.851Z\",\n",
      "            \"modified\": \"2018-01-13T14:58:37.851Z\",\n",
      "            \"name\": \"Qatar Embassy\",\n",
      "            \"identity_class\": \"organization\"\n",
      "        },\n",
      "        {\n",
      "            \"type\": \"identity\",\n",
      "            \"id\": \"identity--64d50e39-54dd-4f82-b251-decbbfe8b40e\",\n",
      "            \"created\": \"2018-01-13T14:58:37.851Z\",\n",
      "            \"modified\": \"2018-01-13T14:58:37.851Z\",\n",
      "            \"name\": \"Iraq Governmental Organization\",\n",
      "            \"identity_class\": \"organization\"\n",
      "        },\n",
      "        {\n",
      "            \"type\": \"identity\",\n",
      "            \"id\": \"identity--ca56baa0-50a2-4ae9-bbc7-72b054048008\",\n",
      "            \"created\": \"2018-01-13T14:58:37.851Z\",\n",
      "            \"modified\": \"2018-01-13T14:58:37.851Z\",\n",
      "            \"name\": \"Spain Governmental Organization\",\n",
      "            \"identity_class\": \"organization\"\n",
      "        },\n",
      "        {\n",
      "            \"type\": \"observed-data\",\n",
      "            \"id\": \"observed-data--47020eb3-45cb-4037-828f-f335622bf807\",\n",
      "            \"created\": \"2018-01-13T14:58:37.762Z\",\n",
      "            \"modified\": \"2018-01-13T14:58:37.762Z\",\n",
      "            \"first_observed\": \"2007-04-27T09:00:00Z\",\n",
      "            \"last_observed\": \"2013-01-27T09:00:00Z\",\n",
      "            \"number_observed\": 1,\n",
      "            \"objects\": {\n",
      "                \"0\": {\n",
      "                    \"type\": \"url\",\n",
      "                    \"value\": \"update.microsoft.com\"\n",
      "                },\n",
      "                \"1\": {\n",
      "                    \"type\": \"url\",\n",
      "                    \"value\": \"www.microsoft.com\"\n",
      "                },\n",
      "                \"2\": {\n",
      "                    \"type\": \"url\",\n",
      "                    \"value\": \"support.microsoft.com\"\n",
      "                }\n",
      "            }\n",
      "        },\n",
      "        {\n",
      "            \"type\": \"observed-data\",\n",
      "            \"id\": \"observed-data--7cb2def2-0929-4d11-a458-d66366242261\",\n",
      "            \"created\": \"2018-01-13T14:58:37.734Z\",\n",
      "            \"modified\": \"2018-01-13T14:58:37.734Z\",\n",
      "            \"first_observed\": \"2007-04-27T09:00:00Z\",\n",
      "            \"last_observed\": \"2013-01-27T09:00:00Z\",\n",
      "            \"number_observed\": 1,\n",
      "            \"objects\": {\n",
      "                \"0\": {\n",
      "                    \"type\": \"file\",\n",
      "                    \"name\": \"Katyn_-_opinia_Rosjan.xls\"\n",
      "                },\n",
      "                \"1\": {\n",
      "                    \"type\": \"file\",\n",
      "                    \"name\": \"FIEO contacts update.xls\"\n",
      "                }\n",
      "            }\n",
      "        },\n",
      "        {\n",
      "            \"type\": \"observed-data\",\n",
      "            \"id\": \"observed-data--476c63f3-0e6c-4688-9761-2426f42caaa1\",\n",
      "            \"created\": \"2018-01-13T14:58:37.778Z\",\n",
      "            \"modified\": \"2018-01-13T14:58:37.778Z\",\n",
      "            \"first_observed\": \"2007-04-27T09:00:00Z\",\n",
      "            \"last_observed\": \"2013-01-27T09:00:00Z\",\n",
      "            \"number_observed\": 1,\n",
      "            \"objects\": {\n",
      "                \"0\": {\n",
      "                    \"type\": \"process\",\n",
      "                    \"name\": \"svchost.exe\"\n",
      "                }\n",
      "            }\n",
      "        },\n",
      "        {\n",
      "            \"type\": \"observed-data\",\n",
      "            \"id\": \"observed-data--570fcc14-8d8d-41fd-84c1-fb89cfc8db58\",\n",
      "            \"created\": \"2018-01-13T14:58:37.789Z\",\n",
      "            \"modified\": \"2018-01-13T14:58:37.789Z\",\n",
      "            \"first_observed\": \"2007-04-27T09:00:00Z\",\n",
      "            \"last_observed\": \"2013-01-27T09:00:00Z\",\n",
      "            \"number_observed\": 11,\n",
      "            \"objects\": {\n",
      "                \"0\": {\n",
      "                    \"type\": \"ipv4-addr\",\n",
      "                    \"value\": \"178.63.208.49\"\n",
      "                },\n",
      "                \"2\": {\n",
      "                    \"type\": \"network-traffic\",\n",
      "                    \"dst_ref\": \"0\",\n",
      "                    \"protocols\": [\n",
      "                        \"http\",\n",
      "                        \"ipv4\",\n",
      "                        \"tcp\"\n",
      "                    ],\n",
      "                    \"extensions\": {\n",
      "                        \"http-request-ext\": {\n",
      "                            \"request_method\": \"post\",\n",
      "                            \"request_value\": \"/cgi-bin/nt/th\",\n",
      "                            \"request_version\": \"http/1.1\",\n",
      "                            \"request_header\": {\n",
      "                                \"Host\": \"nt-windows-online.com\"\n",
      "                            }\n",
      "                        }\n",
      "                    }\n",
      "                }\n",
      "            }\n",
      "        },\n",
      "        {\n",
      "            \"type\": \"observed-data\",\n",
      "            \"id\": \"observed-data--07aa76fe-4ac2-41c8-bc5d-843603e30657\",\n",
      "            \"created\": \"2018-01-13T14:58:37.820Z\",\n",
      "            \"modified\": \"2018-01-13T14:58:37.820Z\",\n",
      "            \"first_observed\": \"2007-04-27T09:00:00Z\",\n",
      "            \"last_observed\": \"2013-01-27T09:00:00Z\",\n",
      "            \"number_observed\": 1,\n",
      "            \"objects\": {\n",
      "                \"0\": {\n",
      "                    \"type\": \"domain-name\",\n",
      "                    \"value\": \"nt-windows-online.com\"\n",
      "                },\n",
      "                \"1\": {\n",
      "                    \"type\": \"domain-name\",\n",
      "                    \"value\": \"microsoft.com\"\n",
      "                }\n",
      "            }\n",
      "        },\n",
      "        {\n",
      "            \"type\": \"observed-data\",\n",
      "            \"id\": \"observed-data--682f7eed-3fd0-4451-ab97-91ff32014e23\",\n",
      "            \"created\": \"2018-01-13T14:58:37.836Z\",\n",
      "            \"modified\": \"2018-01-13T14:58:37.836Z\",\n",
      "            \"first_observed\": \"2007-04-27T09:00:00Z\",\n",
      "            \"last_observed\": \"2013-01-27T09:00:00Z\",\n",
      "            \"number_observed\": 1,\n",
      "            \"objects\": {\n",
      "                \"0\": {\n",
      "                    \"type\": \"ipv4-addr\",\n",
      "                    \"value\": \"31.41.45.139\"\n",
      "                },\n",
      "                \"1\": {\n",
      "                    \"type\": \"ipv4-addr\",\n",
      "                    \"value\": \"91.226.31.40\"\n",
      "                }\n",
      "            }\n",
      "        },\n",
      "        {\n",
      "            \"type\": \"observed-data\",\n",
      "            \"id\": \"observed-data--27e4b309-8b5a-4d2e-b952-98687e64d4ff\",\n",
      "            \"created\": \"2018-01-13T14:58:37.804Z\",\n",
      "            \"modified\": \"2018-01-13T14:58:37.804Z\",\n",
      "            \"first_observed\": \"2007-04-27T09:00:00Z\",\n",
      "            \"last_observed\": \"2013-01-27T09:00:00Z\",\n",
      "            \"number_observed\": 1,\n",
      "            \"objects\": {\n",
      "                \"0\": {\n",
      "                    \"type\": \"software\",\n",
      "                    \"name\": \"Word\",\n",
      "                    \"vendor\": \"Microsoft\"\n",
      "                },\n",
      "                \"1\": {\n",
      "                    \"type\": \"software\",\n",
      "                    \"name\": \"Exal\",\n",
      "                    \"vendor\": \"Microsoft\"\n",
      "                }\n",
      "            }\n",
      "        }\n",
      "    ]\n",
      "}\n"
     ]
    }
   ],
   "source": [
    "everythingArray = [report] + everythingArray\n",
    "stix_bundle = stix2.Bundle(everythingArray)\n",
    "print(stix_bundle)\n",
    "\n"
   ]
  },
  {
   "cell_type": "code",
   "execution_count": 42,
   "metadata": {
    "collapsed": false
   },
   "outputs": [],
   "source": [
    "file = open(\"203303474_300936069_HW2_RedOctober.json\",\"w+\") \n",
    "file.write(str(stix_bundle)) \n",
    "file.close() "
   ]
  },
  {
   "cell_type": "code",
   "execution_count": null,
   "metadata": {
    "collapsed": true
   },
   "outputs": [],
   "source": []
  }
 ],
 "metadata": {
  "kernelspec": {
   "display_name": "Python 2",
   "language": "python",
   "name": "python2"
  },
  "language_info": {
   "codemirror_mode": {
    "name": "ipython",
    "version": 2
   },
   "file_extension": ".py",
   "mimetype": "text/x-python",
   "name": "python",
   "nbconvert_exporter": "python",
   "pygments_lexer": "ipython2",
   "version": "2.7.13"
  }
 },
 "nbformat": 4,
 "nbformat_minor": 2
}
